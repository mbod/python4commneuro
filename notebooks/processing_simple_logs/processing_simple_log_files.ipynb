{
 "cells": [
  {
   "cell_type": "markdown",
   "metadata": {},
   "source": [
    "# Processing simple log files examples\n",
    "\n",
    "\n",
    "### Overview\n",
    "\n",
    "* This notebook walks through the steps to extract data from 100 simple log files such as those that could be generated from a quick online survey experiment.\n",
    "\n",
    "\n",
    "* The files look like this:\n",
    "\n",
    "\n",
    "```\n",
    "        -----------------------------------\n",
    "        | First memory: vacation at beach |\n",
    "        |                                 |\n",
    "        | Favorite color: red             |\n",
    "        |                                 |\n",
    "        | Age of first bike: 39           |\n",
    "        |                                 |\n",
    "        | Gender: F                       |\n",
    "        -----------------------------------\n",
    "    ```\n",
    "\n",
    "  with four lines containing a field name and its value, separated by a `:`.\n",
    " \n",
    "\n",
    "* The task is to process each file and extract these data into a list of dicationaries structure, e.g.:\n",
    "\n",
    "    ```\n",
    "       [\n",
    "         {'Age of first bike': '39',\n",
    "          'Favorite color': 'red',\n",
    "          'First memory': 'vacation at beach',\n",
    "          'Gender': 'F',\n",
    "          'pID': 's000'},\n",
    "          \n",
    "         {'Age of first bike': '10',\n",
    "          'Favorite color': 'orange',\n",
    "          'First memory': 'vacation at beach',\n",
    "          'Gender': 'F',\n",
    "          'pID': 's001'},\n",
    "          \n",
    "         {'Age of first bike': '3',\n",
    "          'Favorite color': 'black',\n",
    "          'First memory': 'getting a dog',\n",
    "          'Gender': 'M',\n",
    "          'pID': 's002'},\n",
    "          \n",
    "          ...\n",
    "          \n",
    "        ]\n",
    "    ```"
   ]
  },
  {
   "cell_type": "markdown",
   "metadata": {},
   "source": [
    "-----------------------\n",
    "#### HISTORY\n",
    "\n",
    "* 11/2/18 mbod"
   ]
  },
  {
   "cell_type": "markdown",
   "metadata": {},
   "source": [
    "### Working out the steps\n",
    "\n",
    "#### The data\n",
    "\n",
    "* The data are in 100 separate text (`.txt`) files in a the folder `toy_data`\n",
    "\n",
    "\n",
    "* To list the contents of a folder/directory you can use the `listdir()` function from the `os` (operating system) module\n",
    "\n",
    "\n",
    "#### MODULES\n",
    "\n",
    "* __MODULES__ are packages of Python code that group together related functions. (They are similar to libraries/packages in R.)\n",
    "\n",
    "* You use the `import MODULE_NAME` syntax to bring a module into your workspace or script.\n",
    "\n",
    "* Import statements should be grouped together at the top of the notebook or script"
   ]
  },
  {
   "cell_type": "code",
   "execution_count": 228,
   "metadata": {
    "collapsed": true
   },
   "outputs": [],
   "source": [
    "import os"
   ]
  },
  {
   "cell_type": "markdown",
   "metadata": {},
   "source": [
    "* List functions and attributes for a module using `dir(MODULE)`, e.g.\n",
    "\n",
    "    `dir(os)`\n",
    "    \n",
    "    \n",
    "* Show the help text for a module and functions within a module using `help(MODULE)`, e.g.\n",
    "\n",
    "    `help(os)`\n",
    "    \n",
    "    `help(os.listdir)`"
   ]
  },
  {
   "cell_type": "markdown",
   "metadata": {},
   "source": [
    "### List the files in a directory\n",
    "\n",
    "* `os.listdir()` function takes the path to a directory and returns a `list` of its contents\n",
    "\n",
    "\n",
    "* The path can either be:\n",
    "    * an __absolute path__, e.g. `os.listdir('/data00/jupyterhub/mydir')` (a path starting with a forward slash) \n",
    "    * a __relative path__, e.g. `os.listdir('mydir')` where `mydir` is in the same location as the notebook or script\n",
    "    \n",
    "    \n",
    "* The `toy_data` folder should be in the same folder as this notebook, so we can use a ralative path"
   ]
  },
  {
   "cell_type": "code",
   "execution_count": 229,
   "metadata": {
    "collapsed": true
   },
   "outputs": [],
   "source": [
    "logs_to_process=os.listdir('toy_data')"
   ]
  },
  {
   "cell_type": "markdown",
   "metadata": {},
   "source": [
    "* Use the `len()` function to find out how many files are in the `toy_data` directory"
   ]
  },
  {
   "cell_type": "code",
   "execution_count": 230,
   "metadata": {},
   "outputs": [
    {
     "data": {
      "text/plain": [
       "100"
      ]
     },
     "execution_count": 230,
     "metadata": {},
     "output_type": "execute_result"
    }
   ],
   "source": [
    "len(logs_to_process)"
   ]
  },
  {
   "cell_type": "markdown",
   "metadata": {},
   "source": [
    "* Show the first 15 files"
   ]
  },
  {
   "cell_type": "code",
   "execution_count": 231,
   "metadata": {},
   "outputs": [
    {
     "data": {
      "text/plain": [
       "['s000.txt',\n",
       " 's001.txt',\n",
       " 's002.txt',\n",
       " 's003.txt',\n",
       " 's004.txt',\n",
       " 's005.txt',\n",
       " 's006.txt',\n",
       " 's007.txt',\n",
       " 's008.txt',\n",
       " 's009.txt',\n",
       " 's010.txt',\n",
       " 's011.txt',\n",
       " 's012.txt',\n",
       " 's013.txt',\n",
       " 's014.txt']"
      ]
     },
     "execution_count": 231,
     "metadata": {},
     "output_type": "execute_result"
    }
   ],
   "source": [
    "logs_to_process[:15]"
   ]
  },
  {
   "cell_type": "markdown",
   "metadata": {},
   "source": [
    "* What is returned is a list of strings where each string is the filename in the folder\n",
    "\n",
    "\n",
    "* Because the `os.listdir()` function returns a list we can use list indexing and slicing to access individual filenames"
   ]
  },
  {
   "cell_type": "code",
   "execution_count": 232,
   "metadata": {},
   "outputs": [
    {
     "data": {
      "text/plain": [
       "'s000.txt'"
      ]
     },
     "execution_count": 232,
     "metadata": {},
     "output_type": "execute_result"
    }
   ],
   "source": [
    "logs_to_process[0]"
   ]
  },
  {
   "cell_type": "code",
   "execution_count": 233,
   "metadata": {},
   "outputs": [
    {
     "data": {
      "text/plain": [
       "'s001.txt'"
      ]
     },
     "execution_count": 233,
     "metadata": {},
     "output_type": "execute_result"
    }
   ],
   "source": [
    "logs_to_process[1]"
   ]
  },
  {
   "cell_type": "code",
   "execution_count": 234,
   "metadata": {},
   "outputs": [
    {
     "data": {
      "text/plain": [
       "['s010.txt', 's011.txt', 's012.txt', 's013.txt', 's014.txt']"
      ]
     },
     "execution_count": 234,
     "metadata": {},
     "output_type": "execute_result"
    }
   ],
   "source": [
    "logs_to_process[10:15]"
   ]
  },
  {
   "cell_type": "markdown",
   "metadata": {},
   "source": [
    "### Accessing the content of a file\n",
    "\n",
    "* The `open()` function can be used to access the content of a file"
   ]
  },
  {
   "cell_type": "code",
   "execution_count": 235,
   "metadata": {},
   "outputs": [
    {
     "data": {
      "text/plain": [
       "<_io.TextIOWrapper name='toy_data/s000.txt' mode='r' encoding='UTF-8'>"
      ]
     },
     "execution_count": 235,
     "metadata": {},
     "output_type": "execute_result"
    }
   ],
   "source": [
    "open('toy_data/s000.txt')"
   ]
  },
  {
   "cell_type": "markdown",
   "metadata": {},
   "source": [
    "* It will return a file input object that has various functions to let you access parts (e.g. line by line) or all of the contents.\n",
    "\n",
    "\n",
    "* For a small text file you can read the entire contents at once with the `.read()` function"
   ]
  },
  {
   "cell_type": "code",
   "execution_count": 236,
   "metadata": {
    "collapsed": true
   },
   "outputs": [],
   "source": [
    "txt=open('toy_data/s000.txt').read()"
   ]
  },
  {
   "cell_type": "markdown",
   "metadata": {},
   "source": [
    "* `txt` points to the string created from reading in the file `toy_data/s000.txt`"
   ]
  },
  {
   "cell_type": "code",
   "execution_count": 237,
   "metadata": {},
   "outputs": [
    {
     "data": {
      "text/plain": [
       "'\\n\\nFirst memory: vacation at beach\\n\\nFavorite color: red\\n\\nAge of first bike: 39\\n\\nGender: F\\n\\n'"
      ]
     },
     "execution_count": 237,
     "metadata": {},
     "output_type": "execute_result"
    }
   ],
   "source": [
    "txt"
   ]
  },
  {
   "cell_type": "markdown",
   "metadata": {},
   "source": [
    "* Using the `print()` function will render the line feeds and other spacing (`\\n` special characters)"
   ]
  },
  {
   "cell_type": "code",
   "execution_count": 238,
   "metadata": {},
   "outputs": [
    {
     "name": "stdout",
     "output_type": "stream",
     "text": [
      "\n",
      "\n",
      "First memory: vacation at beach\n",
      "\n",
      "Favorite color: red\n",
      "\n",
      "Age of first bike: 39\n",
      "\n",
      "Gender: F\n",
      "\n",
      "\n"
     ]
    }
   ],
   "source": [
    "print(txt)"
   ]
  },
  {
   "cell_type": "markdown",
   "metadata": {},
   "source": [
    "#### REMEMBER: `strings` are `lists` of characters\n",
    "\n",
    "* So you can index and slice them"
   ]
  },
  {
   "cell_type": "code",
   "execution_count": 239,
   "metadata": {},
   "outputs": [
    {
     "data": {
      "text/plain": [
       "'\\n\\nFirst memory: vacation at beach\\n\\nFavorite color: red\\n\\nAge of first bike: 39\\n\\nGender: F\\n\\n'"
      ]
     },
     "execution_count": 239,
     "metadata": {},
     "output_type": "execute_result"
    }
   ],
   "source": [
    "txt"
   ]
  },
  {
   "cell_type": "markdown",
   "metadata": {},
   "source": [
    "* Show the number of characters in the string"
   ]
  },
  {
   "cell_type": "code",
   "execution_count": 240,
   "metadata": {},
   "outputs": [
    {
     "data": {
      "text/plain": [
       "90"
      ]
     },
     "execution_count": 240,
     "metadata": {},
     "output_type": "execute_result"
    }
   ],
   "source": [
    "len(txt)"
   ]
  },
  {
   "cell_type": "markdown",
   "metadata": {},
   "source": [
    "#### Indexing\n",
    "\n",
    "* Get the 10th, 17th and last characters"
   ]
  },
  {
   "cell_type": "code",
   "execution_count": 241,
   "metadata": {
    "scrolled": true
   },
   "outputs": [
    {
     "data": {
      "text/plain": [
       "'e'"
      ]
     },
     "execution_count": 241,
     "metadata": {},
     "output_type": "execute_result"
    }
   ],
   "source": [
    "txt[9]  # 10th character - remember zero index = 1st character"
   ]
  },
  {
   "cell_type": "code",
   "execution_count": 242,
   "metadata": {},
   "outputs": [
    {
     "data": {
      "text/plain": [
       "'v'"
      ]
     },
     "execution_count": 242,
     "metadata": {},
     "output_type": "execute_result"
    }
   ],
   "source": [
    "txt[16]"
   ]
  },
  {
   "cell_type": "code",
   "execution_count": 243,
   "metadata": {},
   "outputs": [
    {
     "data": {
      "text/plain": [
       "'\\n'"
      ]
     },
     "execution_count": 243,
     "metadata": {},
     "output_type": "execute_result"
    }
   ],
   "source": [
    "txt[-1]"
   ]
  },
  {
   "cell_type": "markdown",
   "metadata": {},
   "source": [
    "#### Slicing \n",
    "\n",
    "* Get the first 12 characters in the string"
   ]
  },
  {
   "cell_type": "code",
   "execution_count": 244,
   "metadata": {},
   "outputs": [
    {
     "data": {
      "text/plain": [
       "'\\n\\nFirst memo'"
      ]
     },
     "execution_count": 244,
     "metadata": {},
     "output_type": "execute_result"
    }
   ],
   "source": [
    "txt[0:12]"
   ]
  },
  {
   "cell_type": "markdown",
   "metadata": {},
   "source": [
    "#### Using string functions\n",
    "\n",
    "* There are a bunch of different string functions that you can use"
   ]
  },
  {
   "cell_type": "code",
   "execution_count": 245,
   "metadata": {},
   "outputs": [
    {
     "data": {
      "text/plain": [
       "['__add__',\n",
       " '__class__',\n",
       " '__contains__',\n",
       " '__delattr__',\n",
       " '__dir__',\n",
       " '__doc__',\n",
       " '__eq__',\n",
       " '__format__',\n",
       " '__ge__',\n",
       " '__getattribute__',\n",
       " '__getitem__',\n",
       " '__getnewargs__',\n",
       " '__gt__',\n",
       " '__hash__',\n",
       " '__init__',\n",
       " '__init_subclass__',\n",
       " '__iter__',\n",
       " '__le__',\n",
       " '__len__',\n",
       " '__lt__',\n",
       " '__mod__',\n",
       " '__mul__',\n",
       " '__ne__',\n",
       " '__new__',\n",
       " '__reduce__',\n",
       " '__reduce_ex__',\n",
       " '__repr__',\n",
       " '__rmod__',\n",
       " '__rmul__',\n",
       " '__setattr__',\n",
       " '__sizeof__',\n",
       " '__str__',\n",
       " '__subclasshook__',\n",
       " 'capitalize',\n",
       " 'casefold',\n",
       " 'center',\n",
       " 'count',\n",
       " 'encode',\n",
       " 'endswith',\n",
       " 'expandtabs',\n",
       " 'find',\n",
       " 'format',\n",
       " 'format_map',\n",
       " 'index',\n",
       " 'isalnum',\n",
       " 'isalpha',\n",
       " 'isdecimal',\n",
       " 'isdigit',\n",
       " 'isidentifier',\n",
       " 'islower',\n",
       " 'isnumeric',\n",
       " 'isprintable',\n",
       " 'isspace',\n",
       " 'istitle',\n",
       " 'isupper',\n",
       " 'join',\n",
       " 'ljust',\n",
       " 'lower',\n",
       " 'lstrip',\n",
       " 'maketrans',\n",
       " 'partition',\n",
       " 'replace',\n",
       " 'rfind',\n",
       " 'rindex',\n",
       " 'rjust',\n",
       " 'rpartition',\n",
       " 'rsplit',\n",
       " 'rstrip',\n",
       " 'split',\n",
       " 'splitlines',\n",
       " 'startswith',\n",
       " 'strip',\n",
       " 'swapcase',\n",
       " 'title',\n",
       " 'translate',\n",
       " 'upper',\n",
       " 'zfill']"
      ]
     },
     "execution_count": 245,
     "metadata": {},
     "output_type": "execute_result"
    }
   ],
   "source": [
    "dir(str)"
   ]
  },
  {
   "cell_type": "markdown",
   "metadata": {},
   "source": [
    "* Here the `.split()` function is useful to split up the text file contents into lines\n",
    "\n",
    "* The `split()` function takes a string as its argument and returns a list of substrings created by finding each instance of the split string\n",
    "\n",
    "* For example with the string: `a-b-c-d-e-f`\n",
    "\n",
    "  ```\n",
    "  'a-b-c-d-e-f'.split('-')\n",
    "  ```\n",
    "  \n",
    "  will return a list\n",
    "  \n",
    "  ```\n",
    "  ['a','b','c','d','e','f']\n",
    "  ```"
   ]
  },
  {
   "cell_type": "code",
   "execution_count": 246,
   "metadata": {},
   "outputs": [
    {
     "data": {
      "text/plain": [
       "['a', 'b', 'c', 'd', 'e', 'f']"
      ]
     },
     "execution_count": 246,
     "metadata": {},
     "output_type": "execute_result"
    }
   ],
   "source": [
    "'a-b-c-d-e-f'.split('-')"
   ]
  },
  {
   "cell_type": "markdown",
   "metadata": {},
   "source": [
    "#### Spliting text file into lines\n",
    "\n",
    "* use the `\\n` character to split up the `txt` string"
   ]
  },
  {
   "cell_type": "code",
   "execution_count": 247,
   "metadata": {},
   "outputs": [
    {
     "data": {
      "text/plain": [
       "'\\n\\nFirst memory: vacation at beach\\n\\nFavorite color: red\\n\\nAge of first bike: 39\\n\\nGender: F\\n\\n'"
      ]
     },
     "execution_count": 247,
     "metadata": {},
     "output_type": "execute_result"
    }
   ],
   "source": [
    "txt"
   ]
  },
  {
   "cell_type": "code",
   "execution_count": 248,
   "metadata": {
    "collapsed": true
   },
   "outputs": [],
   "source": [
    "items=txt.split('\\n')"
   ]
  },
  {
   "cell_type": "code",
   "execution_count": 249,
   "metadata": {},
   "outputs": [
    {
     "data": {
      "text/plain": [
       "['',\n",
       " '',\n",
       " 'First memory: vacation at beach',\n",
       " '',\n",
       " 'Favorite color: red',\n",
       " '',\n",
       " 'Age of first bike: 39',\n",
       " '',\n",
       " 'Gender: F',\n",
       " '',\n",
       " '']"
      ]
     },
     "execution_count": 249,
     "metadata": {},
     "output_type": "execute_result"
    }
   ],
   "source": [
    "items"
   ]
  },
  {
   "cell_type": "markdown",
   "metadata": {},
   "source": [
    "* Note the empty strings `''` representing the points between the `\\n\\n` sequences\n",
    "\n",
    "\n",
    "* Can use list indexing to pick out specific lines from the `items` list. \n",
    "    * e.g. to get the `Age of first bike` line:"
   ]
  },
  {
   "cell_type": "code",
   "execution_count": 250,
   "metadata": {},
   "outputs": [
    {
     "data": {
      "text/plain": [
       "'Age of first bike: 39'"
      ]
     },
     "execution_count": 250,
     "metadata": {},
     "output_type": "execute_result"
    }
   ],
   "source": [
    "items[6]"
   ]
  },
  {
   "cell_type": "markdown",
   "metadata": {},
   "source": [
    "* A better split character sequence would be a double line feed, `\\n\\n`:"
   ]
  },
  {
   "cell_type": "code",
   "execution_count": 251,
   "metadata": {
    "collapsed": true
   },
   "outputs": [],
   "source": [
    "items2=txt.split('\\n\\n')"
   ]
  },
  {
   "cell_type": "code",
   "execution_count": 252,
   "metadata": {},
   "outputs": [
    {
     "data": {
      "text/plain": [
       "['',\n",
       " 'First memory: vacation at beach',\n",
       " 'Favorite color: red',\n",
       " 'Age of first bike: 39',\n",
       " 'Gender: F',\n",
       " '']"
      ]
     },
     "execution_count": 252,
     "metadata": {},
     "output_type": "execute_result"
    }
   ],
   "source": [
    "items2"
   ]
  },
  {
   "cell_type": "markdown",
   "metadata": {},
   "source": [
    "### Split field names and values"
   ]
  },
  {
   "cell_type": "code",
   "execution_count": 253,
   "metadata": {},
   "outputs": [
    {
     "data": {
      "text/plain": [
       "'First memory: vacation at beach'"
      ]
     },
     "execution_count": 253,
     "metadata": {},
     "output_type": "execute_result"
    }
   ],
   "source": [
    "items2[1]"
   ]
  },
  {
   "cell_type": "markdown",
   "metadata": {},
   "source": [
    "* Use the `: ` string to create a list of two items\n",
    "    1. the field name\n",
    "    2. the value"
   ]
  },
  {
   "cell_type": "code",
   "execution_count": 254,
   "metadata": {},
   "outputs": [
    {
     "data": {
      "text/plain": [
       "['First memory', 'vacation at beach']"
      ]
     },
     "execution_count": 254,
     "metadata": {},
     "output_type": "execute_result"
    }
   ],
   "source": [
    "items2[1].split(': ')"
   ]
  },
  {
   "cell_type": "markdown",
   "metadata": {},
   "source": [
    "### Use a `for` loop to process each item in a list\n",
    "\n",
    "* A `for` loop assigns a named pointer to each item in a list in sequence and then executes the sequences of steps in the __code block__ inside the loop.\n",
    "\n",
    "\n",
    "* Syntax is:\n",
    "\n",
    "    ```\n",
    "    for POINTER in LIST:\n",
    "        CODE BLOCK\n",
    "    ```\n",
    "    \n",
    "* We want to loop over the list of strings in `items2` and for each one split it on the string `: ` and print out the result"
   ]
  },
  {
   "cell_type": "code",
   "execution_count": 255,
   "metadata": {},
   "outputs": [
    {
     "name": "stdout",
     "output_type": "stream",
     "text": [
      "['']\n",
      "['First memory', 'vacation at beach']\n",
      "['Favorite color', 'red']\n",
      "['Age of first bike', '39']\n",
      "['Gender', 'F']\n",
      "['']\n"
     ]
    }
   ],
   "source": [
    "for item in items2:\n",
    "    print(item.split(': '))"
   ]
  },
  {
   "cell_type": "markdown",
   "metadata": {},
   "source": [
    "* Note that `''.split(': ')` returns a single item list\n",
    "* We want to exclude those lines that are empty strings\n",
    "* We can use a conditional test with an `if` statement to do this:"
   ]
  },
  {
   "cell_type": "code",
   "execution_count": 256,
   "metadata": {},
   "outputs": [
    {
     "name": "stdout",
     "output_type": "stream",
     "text": [
      "['First memory', 'vacation at beach']\n",
      "['Favorite color', 'red']\n",
      "['Age of first bike', '39']\n",
      "['Gender', 'F']\n"
     ]
    }
   ],
   "source": [
    "for item in items2:\n",
    "    if item!='':\n",
    "        print(item.split(': '))"
   ]
  },
  {
   "cell_type": "markdown",
   "metadata": {},
   "source": [
    "* We could also do a positive test and only process strings that contain the split str `': '`\n",
    "\n",
    "\n",
    "* Remember string objects have a `.count()` function that returns the number of matching substrings passed as an argument in a string"
   ]
  },
  {
   "cell_type": "code",
   "execution_count": 257,
   "metadata": {},
   "outputs": [
    {
     "data": {
      "text/plain": [
       "1"
      ]
     },
     "execution_count": 257,
     "metadata": {},
     "output_type": "execute_result"
    }
   ],
   "source": [
    "'Field: Value'.count(': ')"
   ]
  },
  {
   "cell_type": "code",
   "execution_count": 258,
   "metadata": {},
   "outputs": [
    {
     "data": {
      "text/plain": [
       "0"
      ]
     },
     "execution_count": 258,
     "metadata": {},
     "output_type": "execute_result"
    }
   ],
   "source": [
    "'Field Value'.count(': ')"
   ]
  },
  {
   "cell_type": "markdown",
   "metadata": {},
   "source": [
    "* The integer value returned by `.count()` can be used in a conditional test\n",
    "    * 0 = False\n",
    "    * 1+ = True"
   ]
  },
  {
   "cell_type": "code",
   "execution_count": 259,
   "metadata": {},
   "outputs": [
    {
     "name": "stdout",
     "output_type": "stream",
     "text": [
      "string contains ': '\n"
     ]
    }
   ],
   "source": [
    "if 'Field: Value'.count(': '):\n",
    "    print(\"string contains ': '\")"
   ]
  },
  {
   "cell_type": "code",
   "execution_count": 260,
   "metadata": {
    "collapsed": true
   },
   "outputs": [],
   "source": [
    "if 'Field Value'.count(': '):\n",
    "    print(\"string contains ': '\")"
   ]
  },
  {
   "cell_type": "markdown",
   "metadata": {},
   "source": [
    "* We can also generalize the code a little but setting a `split_str` used in both the test and split steps:"
   ]
  },
  {
   "cell_type": "code",
   "execution_count": 261,
   "metadata": {},
   "outputs": [
    {
     "name": "stdout",
     "output_type": "stream",
     "text": [
      "['First memory', 'vacation at beach']\n",
      "['Favorite color', 'red']\n",
      "['Age of first bike', '39']\n",
      "['Gender', 'F']\n"
     ]
    }
   ],
   "source": [
    "split_str=': '\n",
    "\n",
    "for item in items2:\n",
    "    if item.count(split_str):\n",
    "        print(item.split(split_str))"
   ]
  },
  {
   "cell_type": "markdown",
   "metadata": {},
   "source": [
    "* We actually want to do something more than just printing out the field name and corresponding value\n",
    "\n",
    "\n",
    "* We can construct a list where each item is itself a list of two items"
   ]
  },
  {
   "cell_type": "code",
   "execution_count": 262,
   "metadata": {
    "collapsed": true
   },
   "outputs": [],
   "source": [
    "split_str=': '\n",
    "\n",
    "data = []\n",
    "\n",
    "for item in items2:\n",
    "    if item.count(split_str):\n",
    "        data.append(item.split(split_str))"
   ]
  },
  {
   "cell_type": "markdown",
   "metadata": {},
   "source": [
    "* This results in a list-of-lists structure"
   ]
  },
  {
   "cell_type": "code",
   "execution_count": 263,
   "metadata": {
    "scrolled": true
   },
   "outputs": [
    {
     "data": {
      "text/plain": [
       "[['First memory', 'vacation at beach'],\n",
       " ['Favorite color', 'red'],\n",
       " ['Age of first bike', '39'],\n",
       " ['Gender', 'F']]"
      ]
     },
     "execution_count": 263,
     "metadata": {},
     "output_type": "execute_result"
    }
   ],
   "source": [
    "data"
   ]
  },
  {
   "cell_type": "markdown",
   "metadata": {},
   "source": [
    "* The level of indexing returns the item at supplied index, which in this cause is itself a list:"
   ]
  },
  {
   "cell_type": "code",
   "execution_count": 264,
   "metadata": {},
   "outputs": [
    {
     "data": {
      "text/plain": [
       "['First memory', 'vacation at beach']"
      ]
     },
     "execution_count": 264,
     "metadata": {},
     "output_type": "execute_result"
    }
   ],
   "source": [
    "data[0]"
   ]
  },
  {
   "cell_type": "markdown",
   "metadata": {},
   "source": [
    "* You can provide a second index which will carry out an index lookup on the list returned by the first index\n",
    "\n",
    "\n",
    "* So we can pick out specific values for specific fields if we know the position in the list"
   ]
  },
  {
   "cell_type": "code",
   "execution_count": 265,
   "metadata": {},
   "outputs": [
    {
     "data": {
      "text/plain": [
       "'vacation at beach'"
      ]
     },
     "execution_count": 265,
     "metadata": {},
     "output_type": "execute_result"
    }
   ],
   "source": [
    "data[0][1]"
   ]
  },
  {
   "cell_type": "code",
   "execution_count": 266,
   "metadata": {},
   "outputs": [
    {
     "data": {
      "text/plain": [
       "'Age of first bike'"
      ]
     },
     "execution_count": 266,
     "metadata": {},
     "output_type": "execute_result"
    }
   ],
   "source": [
    "data[2][0]"
   ]
  },
  {
   "cell_type": "markdown",
   "metadata": {},
   "source": [
    "* We can loop over the list-of-lists structure and get two named pointers for each item in the main list:"
   ]
  },
  {
   "cell_type": "code",
   "execution_count": 267,
   "metadata": {},
   "outputs": [
    {
     "name": "stdout",
     "output_type": "stream",
     "text": [
      "Field: First memory        Value: vacation at beach\n",
      "Field: Favorite color      Value: red\n",
      "Field: Age of first bike   Value: 39\n",
      "Field: Gender              Value: F\n"
     ]
    }
   ],
   "source": [
    "for field, value in data:\n",
    "    print(\"Field: {:<20}Value: {}\".format(field, value))"
   ]
  },
  {
   "cell_type": "markdown",
   "metadata": {},
   "source": [
    "### Using a dictionary to organize data\n",
    "\n",
    "* Sometimes the list-of-lists structure like above is sufficient \n",
    "\n",
    "\n",
    "* However, if we used it for each of the 100 log files we'd end up with a __LIST-OF-LISTS-OF-LISTS__!!!\n",
    "\n",
    "\n",
    "* For example:"
   ]
  },
  {
   "cell_type": "code",
   "execution_count": 268,
   "metadata": {},
   "outputs": [],
   "source": [
    "data2 = [\n",
    " [['First memory', 'vacation at beach'],\n",
    "  ['Favorite color', 'red'],\n",
    "  ['Age of first bike', '39'],\n",
    "  ['Gender', 'F'],\n",
    "  ['pID', 's000']],\n",
    " [['First memory', 'vacation at beach'],\n",
    "  ['Favorite color', 'orange'],\n",
    "  ['Age of first bike', '10'],\n",
    "  ['Gender', 'F'],\n",
    "  ['pID', 's001']],\n",
    " [['First memory', 'getting a dog'],\n",
    "  ['Favorite color', 'black'],\n",
    "  ['Age of first bike', '3'],\n",
    "  ['Gender', 'M'],\n",
    "  ['pID', 's002']],\n",
    " [['First memory', 'first day at school'],\n",
    "  ['Favorite color', 'gray'],\n",
    "  ['Age of first bike', '42'],\n",
    "  ['Gender', 'M'],\n",
    "  ['pID', 's003']],\n",
    " [['First memory', 'playing on swings'],\n",
    "  ['Favorite color', 'orange'],\n",
    "  ['Age of first bike', '36'],\n",
    "  ['Gender', 'F'],\n",
    "  ['pID', 's004']]\n",
    "]"
   ]
  },
  {
   "cell_type": "markdown",
   "metadata": {},
   "source": [
    "* Now\n",
    "    * level 1 index gets a list-of-lists, i.e. the four field and values for the first subject\n",
    "    * level 2 index gets a specific field-value pair\n",
    "    * level 3 index gets either the field (index 0) or value (index 1)\n",
    "    \n",
    "    \n",
    "* For instance, to retrieve the value `black' which if the `Favorite color` of the third subject in `data2` we'd do\n",
    "    * level 1 index = 2\n",
    "    * level 2 index = 1\n",
    "    * level 3 index = 1"
   ]
  },
  {
   "cell_type": "code",
   "execution_count": 269,
   "metadata": {},
   "outputs": [
    {
     "data": {
      "text/plain": [
       "'black'"
      ]
     },
     "execution_count": 269,
     "metadata": {},
     "output_type": "execute_result"
    }
   ],
   "source": [
    "data2[2][1][1]"
   ]
  },
  {
   "cell_type": "markdown",
   "metadata": {},
   "source": [
    "* OK so doable but pretty opaque and fragile\n",
    "\n",
    "\n",
    "* There is a better solution using a Python datastructure called a __DICTIONARY__"
   ]
  },
  {
   "cell_type": "markdown",
   "metadata": {},
   "source": [
    "### Example dictionary\n",
    "\n",
    "* A dictionary is an __UNORDERED COLLECTION OF KEY-VALUE PAIRS__\n",
    "\n",
    "\n",
    "* Curly braces are used to define a dictionary"
   ]
  },
  {
   "cell_type": "code",
   "execution_count": 270,
   "metadata": {
    "collapsed": true
   },
   "outputs": [],
   "source": [
    "my_dict = {}"
   ]
  },
  {
   "cell_type": "code",
   "execution_count": 271,
   "metadata": {},
   "outputs": [
    {
     "data": {
      "text/plain": [
       "dict"
      ]
     },
     "execution_count": 271,
     "metadata": {},
     "output_type": "execute_result"
    }
   ],
   "source": [
    "type(my_dict)"
   ]
  },
  {
   "cell_type": "markdown",
   "metadata": {},
   "source": [
    "* `my_dict` points to an empty dictionary"
   ]
  },
  {
   "cell_type": "code",
   "execution_count": 272,
   "metadata": {},
   "outputs": [
    {
     "data": {
      "text/plain": [
       "{}"
      ]
     },
     "execution_count": 272,
     "metadata": {},
     "output_type": "execute_result"
    }
   ],
   "source": [
    "my_dict"
   ]
  },
  {
   "cell_type": "markdown",
   "metadata": {},
   "source": [
    "* data can be added to thia dictionary like this:"
   ]
  },
  {
   "cell_type": "code",
   "execution_count": 273,
   "metadata": {
    "collapsed": true
   },
   "outputs": [],
   "source": [
    "my_dict['a'] = 15"
   ]
  },
  {
   "cell_type": "markdown",
   "metadata": {},
   "source": [
    "* this assigns the value `15` to the key `a`"
   ]
  },
  {
   "cell_type": "code",
   "execution_count": 274,
   "metadata": {},
   "outputs": [
    {
     "data": {
      "text/plain": [
       "{'a': 15}"
      ]
     },
     "execution_count": 274,
     "metadata": {},
     "output_type": "execute_result"
    }
   ],
   "source": [
    "my_dict"
   ]
  },
  {
   "cell_type": "code",
   "execution_count": 275,
   "metadata": {
    "collapsed": true
   },
   "outputs": [],
   "source": [
    "my_dict['b']=123.32\n",
    "my_dict[15]='a string value'"
   ]
  },
  {
   "cell_type": "code",
   "execution_count": 276,
   "metadata": {},
   "outputs": [
    {
     "data": {
      "text/plain": [
       "{'a': 15, 'b': 123.32, 15: 'a string value'}"
      ]
     },
     "execution_count": 276,
     "metadata": {},
     "output_type": "execute_result"
    }
   ],
   "source": [
    "my_dict"
   ]
  },
  {
   "cell_type": "markdown",
   "metadata": {},
   "source": [
    "* Dictionary values can be accessed by using the matching key as an index:"
   ]
  },
  {
   "cell_type": "code",
   "execution_count": 277,
   "metadata": {},
   "outputs": [
    {
     "data": {
      "text/plain": [
       "123.32"
      ]
     },
     "execution_count": 277,
     "metadata": {},
     "output_type": "execute_result"
    }
   ],
   "source": [
    "my_dict['b']"
   ]
  },
  {
   "cell_type": "markdown",
   "metadata": {},
   "source": [
    "* If a key doesn't exist a `KeyError` will result"
   ]
  },
  {
   "cell_type": "code",
   "execution_count": 278,
   "metadata": {},
   "outputs": [
    {
     "ename": "KeyError",
     "evalue": "'c'",
     "output_type": "error",
     "traceback": [
      "\u001b[0;31m---------------------------------------------------------------------------\u001b[0m",
      "\u001b[0;31mKeyError\u001b[0m                                  Traceback (most recent call last)",
      "\u001b[0;32m<ipython-input-278-0783a8759759>\u001b[0m in \u001b[0;36m<module>\u001b[0;34m()\u001b[0m\n\u001b[0;32m----> 1\u001b[0;31m \u001b[0mmy_dict\u001b[0m\u001b[0;34m[\u001b[0m\u001b[0;34m'c'\u001b[0m\u001b[0;34m]\u001b[0m\u001b[0;34m\u001b[0m\u001b[0m\n\u001b[0m",
      "\u001b[0;31mKeyError\u001b[0m: 'c'"
     ]
    }
   ],
   "source": [
    "my_dict['c']"
   ]
  },
  {
   "cell_type": "markdown",
   "metadata": {},
   "source": [
    "#### Return all keys or values from a dictionary\n",
    "\n",
    "* The `.values()` function will return a list of all the values in a dictionary\n",
    "\n",
    "\n",
    "* The `.keys()` function does the same for the keys"
   ]
  },
  {
   "cell_type": "code",
   "execution_count": 279,
   "metadata": {},
   "outputs": [
    {
     "data": {
      "text/plain": [
       "dict_values([15, 123.32, 'a string value'])"
      ]
     },
     "execution_count": 279,
     "metadata": {},
     "output_type": "execute_result"
    }
   ],
   "source": [
    "my_dict.values()"
   ]
  },
  {
   "cell_type": "code",
   "execution_count": 280,
   "metadata": {},
   "outputs": [
    {
     "data": {
      "text/plain": [
       "dict_keys(['a', 'b', 15])"
      ]
     },
     "execution_count": 280,
     "metadata": {},
     "output_type": "execute_result"
    }
   ],
   "source": [
    "my_dict.keys()"
   ]
  },
  {
   "cell_type": "markdown",
   "metadata": {},
   "source": [
    "### Back to task - using a dictionary to hold log data\n",
    "\n",
    "* We can modify the loop code from above to add key-value pairs to a dictionary"
   ]
  },
  {
   "cell_type": "code",
   "execution_count": 281,
   "metadata": {},
   "outputs": [],
   "source": [
    "data = {}\n",
    "for item in items2:\n",
    "    if item!='':\n",
    "        key, val = item.split(': ')\n",
    "        data[key]=val"
   ]
  },
  {
   "cell_type": "code",
   "execution_count": 282,
   "metadata": {},
   "outputs": [
    {
     "data": {
      "text/plain": [
       "{'Age of first bike': '39',\n",
       " 'Favorite color': 'red',\n",
       " 'First memory': 'vacation at beach',\n",
       " 'Gender': 'F'}"
      ]
     },
     "execution_count": 282,
     "metadata": {},
     "output_type": "execute_result"
    }
   ],
   "source": [
    "data"
   ]
  },
  {
   "cell_type": "code",
   "execution_count": 283,
   "metadata": {},
   "outputs": [
    {
     "data": {
      "text/plain": [
       "dict_keys(['First memory', 'Favorite color', 'Age of first bike', 'Gender'])"
      ]
     },
     "execution_count": 283,
     "metadata": {},
     "output_type": "execute_result"
    }
   ],
   "source": [
    "data.keys()"
   ]
  },
  {
   "cell_type": "code",
   "execution_count": 284,
   "metadata": {},
   "outputs": [
    {
     "data": {
      "text/plain": [
       "dict_values(['vacation at beach', 'red', '39', 'F'])"
      ]
     },
     "execution_count": 284,
     "metadata": {},
     "output_type": "execute_result"
    }
   ],
   "source": [
    "data.values()"
   ]
  },
  {
   "cell_type": "markdown",
   "metadata": {},
   "source": [
    "* Get the gender of subject"
   ]
  },
  {
   "cell_type": "code",
   "execution_count": 285,
   "metadata": {},
   "outputs": [
    {
     "data": {
      "text/plain": [
       "'F'"
      ]
     },
     "execution_count": 285,
     "metadata": {},
     "output_type": "execute_result"
    }
   ],
   "source": [
    "data['Gender']"
   ]
  },
  {
   "cell_type": "markdown",
   "metadata": {},
   "source": [
    "* Get the answer to the _favorite color_ item:"
   ]
  },
  {
   "cell_type": "code",
   "execution_count": 286,
   "metadata": {},
   "outputs": [
    {
     "data": {
      "text/plain": [
       "'red'"
      ]
     },
     "execution_count": 286,
     "metadata": {},
     "output_type": "execute_result"
    }
   ],
   "source": [
    "data['Favorite color']"
   ]
  },
  {
   "cell_type": "markdown",
   "metadata": {},
   "source": [
    "* Finally we also want to add a key-value pair to the dictionary to link the data to a specific participant"
   ]
  },
  {
   "cell_type": "code",
   "execution_count": 287,
   "metadata": {
    "collapsed": true
   },
   "outputs": [],
   "source": [
    "data['pID']='s000'"
   ]
  },
  {
   "cell_type": "code",
   "execution_count": 288,
   "metadata": {},
   "outputs": [
    {
     "data": {
      "text/plain": [
       "{'Age of first bike': '39',\n",
       " 'Favorite color': 'red',\n",
       " 'First memory': 'vacation at beach',\n",
       " 'Gender': 'F',\n",
       " 'pID': 's000'}"
      ]
     },
     "execution_count": 288,
     "metadata": {},
     "output_type": "execute_result"
    }
   ],
   "source": [
    "data"
   ]
  },
  {
   "cell_type": "markdown",
   "metadata": {},
   "source": [
    "## Task: Processing all log files\n",
    "\n",
    "1. get a list of log files from the `toy_data` directory\n",
    "2. for each file\n",
    "    1. load file into a string\n",
    "    2. split string into a list using `\\n\\n`\n",
    "    3. extract data fields from this list and put into a dictionary\n",
    "    4. add the participant identifier to the dictionary\n",
    "    5. add the resulting dictionary to the list of data"
   ]
  },
  {
   "cell_type": "markdown",
   "metadata": {},
   "source": [
    "#### Step 1: Get a list of log files from `toy_data` directory"
   ]
  },
  {
   "cell_type": "code",
   "execution_count": 289,
   "metadata": {
    "collapsed": true
   },
   "outputs": [],
   "source": [
    "logs_to_process = os.listdir('toy_data')"
   ]
  },
  {
   "cell_type": "code",
   "execution_count": 290,
   "metadata": {},
   "outputs": [
    {
     "data": {
      "text/plain": [
       "100"
      ]
     },
     "execution_count": 290,
     "metadata": {},
     "output_type": "execute_result"
    }
   ],
   "source": [
    "len(logs_to_process)"
   ]
  },
  {
   "cell_type": "markdown",
   "metadata": {},
   "source": [
    "#### Step 2: Process each log file"
   ]
  },
  {
   "cell_type": "code",
   "execution_count": 291,
   "metadata": {},
   "outputs": [
    {
     "name": "stdout",
     "output_type": "stream",
     "text": [
      "Processing s000.txt\n",
      "Processing s001.txt\n",
      "Processing s002.txt\n",
      "Processing s003.txt\n",
      "Processing s004.txt\n",
      "Processing s005.txt\n",
      "Processing s006.txt\n",
      "Processing s007.txt\n",
      "Processing s008.txt\n",
      "Processing s009.txt\n",
      "Processing s010.txt\n",
      "Processing s011.txt\n",
      "Processing s012.txt\n",
      "Processing s013.txt\n",
      "Processing s014.txt\n",
      "Processing s015.txt\n",
      "Processing s016.txt\n",
      "Processing s017.txt\n",
      "Processing s018.txt\n",
      "Processing s019.txt\n",
      "Processing s020.txt\n",
      "Processing s021.txt\n",
      "Processing s022.txt\n",
      "Processing s023.txt\n",
      "Processing s024.txt\n",
      "Processing s025.txt\n",
      "Processing s026.txt\n",
      "Processing s027.txt\n",
      "Processing s028.txt\n",
      "Processing s029.txt\n",
      "Processing s030.txt\n",
      "Processing s031.txt\n",
      "Processing s032.txt\n",
      "Processing s033.txt\n",
      "Processing s034.txt\n",
      "Processing s035.txt\n",
      "Processing s036.txt\n",
      "Processing s037.txt\n",
      "Processing s038.txt\n",
      "Processing s039.txt\n",
      "Processing s040.txt\n",
      "Processing s041.txt\n",
      "Processing s042.txt\n",
      "Processing s043.txt\n",
      "Processing s044.txt\n",
      "Processing s045.txt\n",
      "Processing s046.txt\n",
      "Processing s047.txt\n",
      "Processing s048.txt\n",
      "Processing s049.txt\n",
      "Processing s050.txt\n",
      "Processing s051.txt\n",
      "Processing s052.txt\n",
      "Processing s053.txt\n",
      "Processing s054.txt\n",
      "Processing s055.txt\n",
      "Processing s056.txt\n",
      "Processing s057.txt\n",
      "Processing s058.txt\n",
      "Processing s059.txt\n",
      "Processing s060.txt\n",
      "Processing s061.txt\n",
      "Processing s062.txt\n",
      "Processing s063.txt\n",
      "Processing s064.txt\n",
      "Processing s065.txt\n",
      "Processing s066.txt\n",
      "Processing s067.txt\n",
      "Processing s068.txt\n",
      "Processing s069.txt\n",
      "Processing s070.txt\n",
      "Processing s071.txt\n",
      "Processing s072.txt\n",
      "Processing s073.txt\n",
      "Processing s074.txt\n",
      "Processing s075.txt\n",
      "Processing s076.txt\n",
      "Processing s077.txt\n",
      "Processing s078.txt\n",
      "Processing s079.txt\n",
      "Processing s080.txt\n",
      "Processing s081.txt\n",
      "Processing s082.txt\n",
      "Processing s083.txt\n",
      "Processing s084.txt\n",
      "Processing s085.txt\n",
      "Processing s086.txt\n",
      "Processing s087.txt\n",
      "Processing s088.txt\n",
      "Processing s089.txt\n",
      "Processing s090.txt\n",
      "Processing s091.txt\n",
      "Processing s092.txt\n",
      "Processing s093.txt\n",
      "Processing s094.txt\n",
      "Processing s095.txt\n",
      "Processing s096.txt\n",
      "Processing s097.txt\n",
      "Processing s098.txt\n",
      "Processing s099.txt\n"
     ]
    }
   ],
   "source": [
    "datalist = []\n",
    "\n",
    "for log in logs_to_process:\n",
    "    print('Processing',log)\n",
    "    \n",
    "    # A. load text of file into a string\n",
    "    txt = open('toy_data/{}'.format(log)).read()\n",
    "    \n",
    "    # B. split text string into lines\n",
    "    items = txt.split('\\n\\n')\n",
    "    \n",
    "    # C. extract data fields and put in a dictionary\n",
    "    data = {}\n",
    "    for item in items:\n",
    "        if item!='':\n",
    "            key, val = item.split(': ')\n",
    "            data[key]=val\n",
    "    \n",
    "    data['pID']=log.replace('.txt','')\n",
    "    \n",
    "    # D. add dictionary to datalist\n",
    "    datalist.append(data)"
   ]
  },
  {
   "cell_type": "markdown",
   "metadata": {},
   "source": [
    "* The resulting data structure is a __LIST-OF-DICTIONARIES__"
   ]
  },
  {
   "cell_type": "code",
   "execution_count": 292,
   "metadata": {},
   "outputs": [
    {
     "data": {
      "text/plain": [
       "100"
      ]
     },
     "execution_count": 292,
     "metadata": {},
     "output_type": "execute_result"
    }
   ],
   "source": [
    "len(datalist)"
   ]
  },
  {
   "cell_type": "markdown",
   "metadata": {},
   "source": [
    "* We can use list indexing to retrieve dictionaries containing the data for a specific subject"
   ]
  },
  {
   "cell_type": "code",
   "execution_count": 293,
   "metadata": {},
   "outputs": [
    {
     "data": {
      "text/plain": [
       "{'Age of first bike': '39',\n",
       " 'Favorite color': 'red',\n",
       " 'First memory': 'vacation at beach',\n",
       " 'Gender': 'F',\n",
       " 'pID': 's000'}"
      ]
     },
     "execution_count": 293,
     "metadata": {},
     "output_type": "execute_result"
    }
   ],
   "source": [
    "datalist[0]"
   ]
  },
  {
   "cell_type": "markdown",
   "metadata": {},
   "source": [
    "* Slicing will give us the first 5 dictionaries"
   ]
  },
  {
   "cell_type": "code",
   "execution_count": 294,
   "metadata": {},
   "outputs": [
    {
     "data": {
      "text/plain": [
       "[{'Age of first bike': '39',\n",
       "  'Favorite color': 'red',\n",
       "  'First memory': 'vacation at beach',\n",
       "  'Gender': 'F',\n",
       "  'pID': 's000'},\n",
       " {'Age of first bike': '10',\n",
       "  'Favorite color': 'orange',\n",
       "  'First memory': 'vacation at beach',\n",
       "  'Gender': 'F',\n",
       "  'pID': 's001'},\n",
       " {'Age of first bike': '3',\n",
       "  'Favorite color': 'black',\n",
       "  'First memory': 'getting a dog',\n",
       "  'Gender': 'M',\n",
       "  'pID': 's002'},\n",
       " {'Age of first bike': '42',\n",
       "  'Favorite color': 'gray',\n",
       "  'First memory': 'first day at school',\n",
       "  'Gender': 'M',\n",
       "  'pID': 's003'},\n",
       " {'Age of first bike': '36',\n",
       "  'Favorite color': 'orange',\n",
       "  'First memory': 'playing on swings',\n",
       "  'Gender': 'F',\n",
       "  'pID': 's004'}]"
      ]
     },
     "execution_count": 294,
     "metadata": {},
     "output_type": "execute_result"
    }
   ],
   "source": [
    "datalist[:5]"
   ]
  },
  {
   "cell_type": "markdown",
   "metadata": {},
   "source": [
    "### RECAP\n",
    "\n",
    "* To recap we've gone from a directory of small text files that contain log data to a simple and usable data string (list-of-dictionaries) to allow further analysis."
   ]
  },
  {
   "cell_type": "markdown",
   "metadata": {},
   "source": [
    "## BONUS! A note on the data structure\n",
    "\n",
    "* This kind of data structure, a __LIST-OF-DICTIONARIES__, is very common. \n",
    "\n",
    "\n",
    "* For example, when you pull data from the Twitter API you'll get a list-of-dictionaries with a dictionary for each tweet order in a list from most recent at index 0.\n",
    "\n",
    "\n",
    "* Here are the last three tweets by `@joebiden` (as of 3pm 11/3/18):"
   ]
  },
  {
   "cell_type": "markdown",
   "metadata": {},
   "source": [
    "```\n",
    "[   # <- start of list\n",
    "\n",
    "    # FIRST TWEET START (index 0)\n",
    "    \n",
    "    {'contributors': None,\n",
    "      'coordinates': None,\n",
    "      'created_at': 'Sat Nov 03 14:54:37 +0000 2018',\n",
    "      'entities': {'hashtags': [],\n",
    "       'symbols': [],\n",
    "       'urls': [{'display_url': 'twitter.com/i/web/status/1…',\n",
    "         'expanded_url': 'https://twitter.com/i/web/status/1058734197655912448',\n",
    "         'indices': [117, 140],\n",
    "         'url': 'https://t.co/CVNbvKQyK5'}],\n",
    "       'user_mentions': []},\n",
    "      'favorite_count': 11780,\n",
    "      'favorited': False,\n",
    "      'geo': None,\n",
    "      'id': 1058734197655912448,\n",
    "      'id_str': '1058734197655912448',\n",
    "      'in_reply_to_screen_name': None,\n",
    "      'in_reply_to_status_id': None,\n",
    "      'in_reply_to_status_id_str': None,\n",
    "      'in_reply_to_user_id': None,\n",
    "      'in_reply_to_user_id_str': None,\n",
    "      'is_quote_status': True,\n",
    "      'lang': 'en',\n",
    "      'place': None,\n",
    "      'possibly_sensitive': False,\n",
    "      'quoted_status': {'contributors': None,\n",
    "       'coordinates': None,\n",
    "       'created_at': 'Sat Nov 03 00:45:35 +0000 2018',\n",
    "       'entities': {'hashtags': [],\n",
    "        'symbols': [],\n",
    "        'urls': [{'display_url': 'reut.rs/2Qnwi6U',\n",
    "          'expanded_url': 'https://reut.rs/2Qnwi6U',\n",
    "          'indices': [60, 83],\n",
    "          'url': 'https://t.co/tTZhP7eVOv'}],\n",
    "        'user_mentions': []},\n",
    "       'favorite_count': 391,\n",
    "       'favorited': False,\n",
    "       'geo': None,\n",
    "       'id': 1058520531799023616,\n",
    "       'id_str': '1058520531799023616',\n",
    "       'in_reply_to_screen_name': None,\n",
    "       'in_reply_to_status_id': None,\n",
    "       'in_reply_to_status_id_str': None,\n",
    "       'in_reply_to_user_id': None,\n",
    "       'in_reply_to_user_id_str': None,\n",
    "       'is_quote_status': False,\n",
    "       'lang': 'en',\n",
    "       'place': None,\n",
    "       'possibly_sensitive': False,\n",
    "       'retweet_count': 151,\n",
    "       'retweeted': False,\n",
    "       'source': '<a href=\"http://www.socialflow.com\" rel=\"nofollow\">SocialFlow</a>',\n",
    "       'text': 'U.S. courts rule against Georgia on voter suppression cases https://t.co/tTZhP7eVOv',\n",
    "       'truncated': False,\n",
    "       'user': {'contributors_enabled': False,\n",
    "        'created_at': 'Tue Mar 20 17:46:05 +0000 2007',\n",
    "        'default_profile': False,\n",
    "        'default_profile_image': False,\n",
    "        'description': 'Top and breaking news, pictures, and videos from Reuters.',\n",
    "        'entities': {'description': {'urls': []},\n",
    "         'url': {'urls': [{'display_url': 'reuters.com',\n",
    "            'expanded_url': 'http://www.reuters.com',\n",
    "            'indices': [0, 22],\n",
    "            'url': 'http://t.co/BmHxhkm3Mh'}]}},\n",
    "        'favourites_count': 788,\n",
    "        'follow_request_sent': False,\n",
    "        'followers_count': 20030330,\n",
    "        'following': False,\n",
    "        'friends_count': 1077,\n",
    "        'geo_enabled': False,\n",
    "        'has_extended_profile': False,\n",
    "        'id': 1652541,\n",
    "        'id_str': '1652541',\n",
    "        'is_translation_enabled': True,\n",
    "        'is_translator': False,\n",
    "        'lang': 'en',\n",
    "        'listed_count': 116320,\n",
    "        'location': 'Around the world',\n",
    "        'name': 'Reuters Top News',\n",
    "        'notifications': False,\n",
    "        'profile_background_color': '444444',\n",
    "        'profile_background_image_url': 'http://abs.twimg.com/images/themes/theme1/bg.png',\n",
    "        'profile_background_image_url_https': 'https://abs.twimg.com/images/themes/theme1/bg.png',\n",
    "        'profile_background_tile': False,\n",
    "        'profile_banner_url': 'https://pbs.twimg.com/profile_banners/1652541/1525365834',\n",
    "        'profile_image_url': 'http://pbs.twimg.com/profile_images/877554927932891136/ZBEs235N_normal.jpg',\n",
    "        'profile_image_url_https': 'https://pbs.twimg.com/profile_images/877554927932891136/ZBEs235N_normal.jpg',\n",
    "        'profile_link_color': '006F97',\n",
    "        'profile_sidebar_border_color': '000000',\n",
    "        'profile_sidebar_fill_color': 'F5F5F5',\n",
    "        'profile_text_color': '000000',\n",
    "        'profile_use_background_image': True,\n",
    "        'protected': False,\n",
    "        'screen_name': 'Reuters',\n",
    "        'statuses_count': 324951,\n",
    "        'time_zone': None,\n",
    "        'translator_type': 'regular',\n",
    "        'url': 'http://t.co/BmHxhkm3Mh',\n",
    "        'utc_offset': None,\n",
    "        'verified': True}},\n",
    "      'quoted_status_id': 1058520531799023616,\n",
    "      'quoted_status_id_str': '1058520531799023616',\n",
    "      'retweet_count': 2417,\n",
    "      'retweeted': False,\n",
    "      'source': '<a href=\"http://twitter.com/download/iphone\" rel=\"nofollow\">Twitter for iPhone</a>',\n",
    "      'text': 'Voting restrictions in Georgia weren’t meant to protect the sanctity of our vote, but to suppress turnout. I applau… https://t.co/CVNbvKQyK5',\n",
    "      'truncated': True,\n",
    "      'user': {'contributors_enabled': False,\n",
    "       'created_at': 'Sun Mar 11 17:51:24 +0000 2007',\n",
    "       'default_profile': False,\n",
    "       'default_profile_image': False,\n",
    "       'description': 'Represented Delaware in the Senate for 36 years, 47th Vice President of the United States, husband to Jill, proud father and grandfather.',\n",
    "       'entities': {'description': {'urls': []},\n",
    "        'url': {'urls': [{'display_url': 'americanpossibilities.org',\n",
    "           'expanded_url': 'http://americanpossibilities.org',\n",
    "           'indices': [0, 23],\n",
    "           'url': 'https://t.co/5kNr6MfwqS'}]}},\n",
    "       'favourites_count': 0,\n",
    "       'follow_request_sent': False,\n",
    "       'followers_count': 3065313,\n",
    "       'following': False,\n",
    "       'friends_count': 23,\n",
    "       'geo_enabled': False,\n",
    "       'has_extended_profile': False,\n",
    "       'id': 939091,\n",
    "       'id_str': '939091',\n",
    "       'is_translation_enabled': False,\n",
    "       'is_translator': False,\n",
    "       'lang': 'en',\n",
    "       'listed_count': 11476,\n",
    "       'location': 'Washington, D.C.',\n",
    "       'name': 'Joe Biden',\n",
    "       'notifications': False,\n",
    "       'profile_background_color': '565959',\n",
    "       'profile_background_image_url': 'http://abs.twimg.com/images/themes/theme1/bg.png',\n",
    "       'profile_background_image_url_https': 'https://abs.twimg.com/images/themes/theme1/bg.png',\n",
    "       'profile_background_tile': True,\n",
    "       'profile_banner_url': 'https://pbs.twimg.com/profile_banners/939091/1469654092',\n",
    "       'profile_image_url': 'http://pbs.twimg.com/profile_images/453173279637766144/-zpwMHaG_normal.jpeg',\n",
    "       'profile_image_url_https': 'https://pbs.twimg.com/profile_images/453173279637766144/-zpwMHaG_normal.jpeg',\n",
    "       'profile_link_color': '787980',\n",
    "       'profile_sidebar_border_color': 'FFFFFF',\n",
    "       'profile_sidebar_fill_color': 'EBEBFF',\n",
    "       'profile_text_color': '323232',\n",
    "       'profile_use_background_image': True,\n",
    "       'protected': False,\n",
    "       'screen_name': 'JoeBiden',\n",
    "       'statuses_count': 1491,\n",
    "       'time_zone': None,\n",
    "       'translator_type': 'none',\n",
    "       'url': 'https://t.co/5kNr6MfwqS',\n",
    "       'utc_offset': None,\n",
    "       'verified': True}},  # FIRST TWEET END\n",
    "    \n",
    "     #--------------------------------------------------\n",
    "     # SECOND TWEET START (index 1)\n",
    "     {'contributors': None,\n",
    "      'coordinates': None,\n",
    "      'created_at': 'Sat Nov 03 14:46:54 +0000 2018',\n",
    "      'entities': {'hashtags': [],\n",
    "       'symbols': [],\n",
    "       'urls': [{'display_url': 'twitter.com/i/web/status/1…',\n",
    "         'expanded_url': 'https://twitter.com/i/web/status/1058732253629493250',\n",
    "         'indices': [117, 140],\n",
    "         'url': 'https://t.co/CXrVTZwbtf'}],\n",
    "       'user_mentions': []},\n",
    "      'favorite_count': 3127,\n",
    "      'favorited': False,\n",
    "      'geo': None,\n",
    "      'id': 1058732253629493250,\n",
    "      'id_str': '1058732253629493250',\n",
    "      'in_reply_to_screen_name': None,\n",
    "      'in_reply_to_status_id': None,\n",
    "      'in_reply_to_status_id_str': None,\n",
    "      'in_reply_to_user_id': None,\n",
    "      'in_reply_to_user_id_str': None,\n",
    "      'is_quote_status': False,\n",
    "      'lang': 'en',\n",
    "      'place': None,\n",
    "      'possibly_sensitive': False,\n",
    "      'retweet_count': 884,\n",
    "      'retweeted': False,\n",
    "      'source': '<a href=\"https://studio.twitter.com\" rel=\"nofollow\">Media Studio</a>',\n",
    "      'text': 'The character of our country is on the ballot on Tuesday, but you still have a chance to make a difference today. D… https://t.co/CXrVTZwbtf',\n",
    "      'truncated': True,\n",
    "      'user': {'contributors_enabled': False,\n",
    "       'created_at': 'Sun Mar 11 17:51:24 +0000 2007',\n",
    "       'default_profile': False,\n",
    "       'default_profile_image': False,\n",
    "       'description': 'Represented Delaware in the Senate for 36 years, 47th Vice President of the United States, husband to Jill, proud father and grandfather.',\n",
    "       'entities': {'description': {'urls': []},\n",
    "        'url': {'urls': [{'display_url': 'americanpossibilities.org',\n",
    "           'expanded_url': 'http://americanpossibilities.org',\n",
    "           'indices': [0, 23],\n",
    "           'url': 'https://t.co/5kNr6MfwqS'}]}},\n",
    "       'favourites_count': 0,\n",
    "       'follow_request_sent': False,\n",
    "       'followers_count': 3065313,\n",
    "       'following': False,\n",
    "       'friends_count': 23,\n",
    "       'geo_enabled': False,\n",
    "       'has_extended_profile': False,\n",
    "       'id': 939091,\n",
    "       'id_str': '939091',\n",
    "       'is_translation_enabled': False,\n",
    "       'is_translator': False,\n",
    "       'lang': 'en',\n",
    "       'listed_count': 11476,\n",
    "       'location': 'Washington, D.C.',\n",
    "       'name': 'Joe Biden',\n",
    "       'notifications': False,\n",
    "       'profile_background_color': '565959',\n",
    "       'profile_background_image_url': 'http://abs.twimg.com/images/themes/theme1/bg.png',\n",
    "       'profile_background_image_url_https': 'https://abs.twimg.com/images/themes/theme1/bg.png',\n",
    "       'profile_background_tile': True,\n",
    "       'profile_banner_url': 'https://pbs.twimg.com/profile_banners/939091/1469654092',\n",
    "       'profile_image_url': 'http://pbs.twimg.com/profile_images/453173279637766144/-zpwMHaG_normal.jpeg',\n",
    "       'profile_image_url_https': 'https://pbs.twimg.com/profile_images/453173279637766144/-zpwMHaG_normal.jpeg',\n",
    "       'profile_link_color': '787980',\n",
    "       'profile_sidebar_border_color': 'FFFFFF',\n",
    "       'profile_sidebar_fill_color': 'EBEBFF',\n",
    "       'profile_text_color': '323232',\n",
    "       'profile_use_background_image': True,\n",
    "       'protected': False,\n",
    "       'screen_name': 'JoeBiden',\n",
    "       'statuses_count': 1491,\n",
    "       'time_zone': None,\n",
    "       'translator_type': 'none',\n",
    "       'url': 'https://t.co/5kNr6MfwqS',\n",
    "       'utc_offset': None,\n",
    "       'verified': True}}, # SECOND TWEET END\n",
    "       \n",
    "       \n",
    "     #--------------------------------------------------\n",
    "     # THIRD TWEET START (index 2)\n",
    "     {'contributors': None,\n",
    "      'coordinates': None,\n",
    "      'created_at': 'Sat Nov 03 13:33:15 +0000 2018',\n",
    "      'entities': {'hashtags': [],\n",
    "       'symbols': [],\n",
    "       'urls': [{'display_url': 'twitter.com/i/web/status/1…',\n",
    "         'expanded_url': 'https://twitter.com/i/web/status/1058713718350057472',\n",
    "         'indices': [117, 140],\n",
    "         'url': 'https://t.co/xNvpuk23Vd'}],\n",
    "       'user_mentions': []},\n",
    "      'favorite_count': 1691,\n",
    "      'favorited': False,\n",
    "      'geo': None,\n",
    "      'id': 1058713718350057472,\n",
    "      'id_str': '1058713718350057472',\n",
    "      'in_reply_to_screen_name': None,\n",
    "      'in_reply_to_status_id': None,\n",
    "      'in_reply_to_status_id_str': None,\n",
    "      'in_reply_to_user_id': None,\n",
    "      'in_reply_to_user_id_str': None,\n",
    "      'is_quote_status': False,\n",
    "      'lang': 'en',\n",
    "      'place': None,\n",
    "      'possibly_sensitive': False,\n",
    "      'retweet_count': 311,\n",
    "      'retweeted': False,\n",
    "      'source': '<a href=\"http://twitter.com/download/iphone\" rel=\"nofollow\">Twitter for iPhone</a>',\n",
    "      'text': 'I couldn’t be more excited to close out this election in Luzerne County PA on Sunday at a Get Out the Vote rally wi… https://t.co/xNvpuk23Vd',\n",
    "      'truncated': True,\n",
    "      'user': {'contributors_enabled': False,\n",
    "       'created_at': 'Sun Mar 11 17:51:24 +0000 2007',\n",
    "       'default_profile': False,\n",
    "       'default_profile_image': False,\n",
    "       'description': 'Represented Delaware in the Senate for 36 years, 47th Vice President of the United States, husband to Jill, proud father and grandfather.',\n",
    "       'entities': {'description': {'urls': []},\n",
    "        'url': {'urls': [{'display_url': 'americanpossibilities.org',\n",
    "           'expanded_url': 'http://americanpossibilities.org',\n",
    "           'indices': [0, 23],\n",
    "           'url': 'https://t.co/5kNr6MfwqS'}]}},\n",
    "       'favourites_count': 0,\n",
    "       'follow_request_sent': False,\n",
    "       'followers_count': 3065313,\n",
    "       'following': False,\n",
    "       'friends_count': 23,\n",
    "       'geo_enabled': False,\n",
    "       'has_extended_profile': False,\n",
    "       'id': 939091,\n",
    "       'id_str': '939091',\n",
    "       'is_translation_enabled': False,\n",
    "       'is_translator': False,\n",
    "       'lang': 'en',\n",
    "       'listed_count': 11476,\n",
    "       'location': 'Washington, D.C.',\n",
    "       'name': 'Joe Biden',\n",
    "       'notifications': False,\n",
    "       'profile_background_color': '565959',\n",
    "       'profile_background_image_url': 'http://abs.twimg.com/images/themes/theme1/bg.png',\n",
    "       'profile_background_image_url_https': 'https://abs.twimg.com/images/themes/theme1/bg.png',\n",
    "       'profile_background_tile': True,\n",
    "       'profile_banner_url': 'https://pbs.twimg.com/profile_banners/939091/1469654092',\n",
    "       'profile_image_url': 'http://pbs.twimg.com/profile_images/453173279637766144/-zpwMHaG_normal.jpeg',\n",
    "       'profile_image_url_https': 'https://pbs.twimg.com/profile_images/453173279637766144/-zpwMHaG_normal.jpeg',\n",
    "       'profile_link_color': '787980',\n",
    "       'profile_sidebar_border_color': 'FFFFFF',\n",
    "       'profile_sidebar_fill_color': 'EBEBFF',\n",
    "       'profile_text_color': '323232',\n",
    "       'profile_use_background_image': True,\n",
    "       'protected': False,\n",
    "       'screen_name': 'JoeBiden',\n",
    "       'statuses_count': 1491,\n",
    "       'time_zone': None,\n",
    "       'translator_type': 'none',\n",
    "       'url': 'https://t.co/5kNr6MfwqS',\n",
    "       'utc_offset': None,\n",
    "       'verified': True}}\n",
    "      # THIRD TWEET END\n",
    "      \n",
    "      \n",
    "]    # <-- end of list\n",
    "```"
   ]
  },
  {
   "cell_type": "markdown",
   "metadata": {},
   "source": [
    "* You can see embeded list-of-dictionaries as values within a tweet dictionary, e.g.\n",
    "\n",
    "```\n",
    "'urls': [{'display_url': 'twitter.com/i/web/status/1…',\n",
    "         'expanded_url': 'https://twitter.com/i/web/status/1058713718350057472',\n",
    "         'indices': [117, 140],\n",
    "         'url': 'https://t.co/xNvpuk23Vd'}],\n",
    "         ...\n",
    "```"
   ]
  },
  {
   "cell_type": "markdown",
   "metadata": {},
   "source": [
    "* These kinds of data structures are often serialized in a data format called JSON (JavaScript Object Notation) that we will cover in future notebooks. Most APIs from social media and other services will serialize data in JSON. JSON easily evalutates into Python objects, such as a list-of-dictionaries and can be easily processed.\n",
    "\n",
    "\n",
    "* Here are screenshots of the three tweets\n",
    "\n",
    "![](biden_tweet1.png)\n",
    "![](biden_tweet2.png)\n",
    "![](biden_tweet3.png)"
   ]
  },
  {
   "cell_type": "markdown",
   "metadata": {},
   "source": [
    "# ADVANCED BONUS\n",
    "\n",
    "## And finally a preview of fun stuff to come using `pandas` dataframes\n",
    "\n",
    "* In future notebooks we'll investigate the Python module that provides similar functionality to an R dataframe called `pandas`\n",
    "\n",
    "* Here are just a few examples of turning our `datalist` list-of-dictionaries into a dataframe"
   ]
  },
  {
   "cell_type": "code",
   "execution_count": 295,
   "metadata": {
    "collapsed": true
   },
   "outputs": [],
   "source": [
    "%matplotlib inline\n",
    "\n",
    "import pandas as pd"
   ]
  },
  {
   "cell_type": "code",
   "execution_count": 296,
   "metadata": {
    "collapsed": true
   },
   "outputs": [],
   "source": [
    "df=pd.DataFrame(datalist)"
   ]
  },
  {
   "cell_type": "code",
   "execution_count": 297,
   "metadata": {},
   "outputs": [
    {
     "data": {
      "text/html": [
       "<div>\n",
       "<style>\n",
       "    .dataframe thead tr:only-child th {\n",
       "        text-align: right;\n",
       "    }\n",
       "\n",
       "    .dataframe thead th {\n",
       "        text-align: left;\n",
       "    }\n",
       "\n",
       "    .dataframe tbody tr th {\n",
       "        vertical-align: top;\n",
       "    }\n",
       "</style>\n",
       "<table border=\"1\" class=\"dataframe\">\n",
       "  <thead>\n",
       "    <tr style=\"text-align: right;\">\n",
       "      <th></th>\n",
       "      <th>Age of first bike</th>\n",
       "      <th>Favorite color</th>\n",
       "      <th>First memory</th>\n",
       "      <th>Gender</th>\n",
       "      <th>pID</th>\n",
       "    </tr>\n",
       "  </thead>\n",
       "  <tbody>\n",
       "    <tr>\n",
       "      <th>0</th>\n",
       "      <td>39</td>\n",
       "      <td>red</td>\n",
       "      <td>vacation at beach</td>\n",
       "      <td>F</td>\n",
       "      <td>s000</td>\n",
       "    </tr>\n",
       "    <tr>\n",
       "      <th>1</th>\n",
       "      <td>10</td>\n",
       "      <td>orange</td>\n",
       "      <td>vacation at beach</td>\n",
       "      <td>F</td>\n",
       "      <td>s001</td>\n",
       "    </tr>\n",
       "    <tr>\n",
       "      <th>2</th>\n",
       "      <td>3</td>\n",
       "      <td>black</td>\n",
       "      <td>getting a dog</td>\n",
       "      <td>M</td>\n",
       "      <td>s002</td>\n",
       "    </tr>\n",
       "    <tr>\n",
       "      <th>3</th>\n",
       "      <td>42</td>\n",
       "      <td>gray</td>\n",
       "      <td>first day at school</td>\n",
       "      <td>M</td>\n",
       "      <td>s003</td>\n",
       "    </tr>\n",
       "    <tr>\n",
       "      <th>4</th>\n",
       "      <td>36</td>\n",
       "      <td>orange</td>\n",
       "      <td>playing on swings</td>\n",
       "      <td>F</td>\n",
       "      <td>s004</td>\n",
       "    </tr>\n",
       "    <tr>\n",
       "      <th>5</th>\n",
       "      <td>13</td>\n",
       "      <td>red</td>\n",
       "      <td>playing on swings</td>\n",
       "      <td>M</td>\n",
       "      <td>s005</td>\n",
       "    </tr>\n",
       "    <tr>\n",
       "      <th>6</th>\n",
       "      <td>13</td>\n",
       "      <td>purple</td>\n",
       "      <td>playing on swings</td>\n",
       "      <td>F</td>\n",
       "      <td>s006</td>\n",
       "    </tr>\n",
       "    <tr>\n",
       "      <th>7</th>\n",
       "      <td>37</td>\n",
       "      <td>blue</td>\n",
       "      <td>getting new teddy bear</td>\n",
       "      <td>F</td>\n",
       "      <td>s007</td>\n",
       "    </tr>\n",
       "    <tr>\n",
       "      <th>8</th>\n",
       "      <td>4</td>\n",
       "      <td>red</td>\n",
       "      <td>playing on swings</td>\n",
       "      <td>M</td>\n",
       "      <td>s008</td>\n",
       "    </tr>\n",
       "    <tr>\n",
       "      <th>9</th>\n",
       "      <td>22</td>\n",
       "      <td>orange</td>\n",
       "      <td>first day at school</td>\n",
       "      <td>M</td>\n",
       "      <td>s009</td>\n",
       "    </tr>\n",
       "    <tr>\n",
       "      <th>10</th>\n",
       "      <td>12</td>\n",
       "      <td>green</td>\n",
       "      <td>first day at school</td>\n",
       "      <td>F</td>\n",
       "      <td>s010</td>\n",
       "    </tr>\n",
       "    <tr>\n",
       "      <th>11</th>\n",
       "      <td>43</td>\n",
       "      <td>purple</td>\n",
       "      <td>getting a dog</td>\n",
       "      <td>F</td>\n",
       "      <td>s011</td>\n",
       "    </tr>\n",
       "    <tr>\n",
       "      <th>12</th>\n",
       "      <td>18</td>\n",
       "      <td>purple</td>\n",
       "      <td>getting a dog</td>\n",
       "      <td>M</td>\n",
       "      <td>s012</td>\n",
       "    </tr>\n",
       "    <tr>\n",
       "      <th>13</th>\n",
       "      <td>4</td>\n",
       "      <td>red</td>\n",
       "      <td>getting new teddy bear</td>\n",
       "      <td>M</td>\n",
       "      <td>s013</td>\n",
       "    </tr>\n",
       "    <tr>\n",
       "      <th>14</th>\n",
       "      <td>10</td>\n",
       "      <td>blue</td>\n",
       "      <td>getting a dog</td>\n",
       "      <td>M</td>\n",
       "      <td>s014</td>\n",
       "    </tr>\n",
       "    <tr>\n",
       "      <th>15</th>\n",
       "      <td>27</td>\n",
       "      <td>purple</td>\n",
       "      <td>getting new teddy bear</td>\n",
       "      <td>F</td>\n",
       "      <td>s015</td>\n",
       "    </tr>\n",
       "    <tr>\n",
       "      <th>16</th>\n",
       "      <td>6</td>\n",
       "      <td>blue</td>\n",
       "      <td>getting new teddy bear</td>\n",
       "      <td>M</td>\n",
       "      <td>s016</td>\n",
       "    </tr>\n",
       "    <tr>\n",
       "      <th>17</th>\n",
       "      <td>37</td>\n",
       "      <td>purple</td>\n",
       "      <td>going to doctor</td>\n",
       "      <td>M</td>\n",
       "      <td>s017</td>\n",
       "    </tr>\n",
       "    <tr>\n",
       "      <th>18</th>\n",
       "      <td>45</td>\n",
       "      <td>red</td>\n",
       "      <td>playing on swings</td>\n",
       "      <td>F</td>\n",
       "      <td>s018</td>\n",
       "    </tr>\n",
       "    <tr>\n",
       "      <th>19</th>\n",
       "      <td>27</td>\n",
       "      <td>orange</td>\n",
       "      <td>playing on swings</td>\n",
       "      <td>M</td>\n",
       "      <td>s019</td>\n",
       "    </tr>\n",
       "    <tr>\n",
       "      <th>20</th>\n",
       "      <td>15</td>\n",
       "      <td>gray</td>\n",
       "      <td>playing on swings</td>\n",
       "      <td>M</td>\n",
       "      <td>s020</td>\n",
       "    </tr>\n",
       "    <tr>\n",
       "      <th>21</th>\n",
       "      <td>5</td>\n",
       "      <td>orange</td>\n",
       "      <td>first day at school</td>\n",
       "      <td>F</td>\n",
       "      <td>s021</td>\n",
       "    </tr>\n",
       "    <tr>\n",
       "      <th>22</th>\n",
       "      <td>21</td>\n",
       "      <td>orange</td>\n",
       "      <td>playing on swings</td>\n",
       "      <td>F</td>\n",
       "      <td>s022</td>\n",
       "    </tr>\n",
       "    <tr>\n",
       "      <th>23</th>\n",
       "      <td>38</td>\n",
       "      <td>orange</td>\n",
       "      <td>going to doctor</td>\n",
       "      <td>F</td>\n",
       "      <td>s023</td>\n",
       "    </tr>\n",
       "    <tr>\n",
       "      <th>24</th>\n",
       "      <td>23</td>\n",
       "      <td>purple</td>\n",
       "      <td>playing on swings</td>\n",
       "      <td>F</td>\n",
       "      <td>s024</td>\n",
       "    </tr>\n",
       "    <tr>\n",
       "      <th>25</th>\n",
       "      <td>11</td>\n",
       "      <td>green</td>\n",
       "      <td>vacation at beach</td>\n",
       "      <td>F</td>\n",
       "      <td>s025</td>\n",
       "    </tr>\n",
       "    <tr>\n",
       "      <th>26</th>\n",
       "      <td>38</td>\n",
       "      <td>gray</td>\n",
       "      <td>playing on swings</td>\n",
       "      <td>F</td>\n",
       "      <td>s026</td>\n",
       "    </tr>\n",
       "    <tr>\n",
       "      <th>27</th>\n",
       "      <td>16</td>\n",
       "      <td>green</td>\n",
       "      <td>going to doctor</td>\n",
       "      <td>M</td>\n",
       "      <td>s027</td>\n",
       "    </tr>\n",
       "    <tr>\n",
       "      <th>28</th>\n",
       "      <td>19</td>\n",
       "      <td>green</td>\n",
       "      <td>getting a dog</td>\n",
       "      <td>M</td>\n",
       "      <td>s028</td>\n",
       "    </tr>\n",
       "    <tr>\n",
       "      <th>29</th>\n",
       "      <td>17</td>\n",
       "      <td>red</td>\n",
       "      <td>getting new teddy bear</td>\n",
       "      <td>F</td>\n",
       "      <td>s029</td>\n",
       "    </tr>\n",
       "    <tr>\n",
       "      <th>...</th>\n",
       "      <td>...</td>\n",
       "      <td>...</td>\n",
       "      <td>...</td>\n",
       "      <td>...</td>\n",
       "      <td>...</td>\n",
       "    </tr>\n",
       "    <tr>\n",
       "      <th>70</th>\n",
       "      <td>34</td>\n",
       "      <td>gray</td>\n",
       "      <td>first day at school</td>\n",
       "      <td>M</td>\n",
       "      <td>s070</td>\n",
       "    </tr>\n",
       "    <tr>\n",
       "      <th>71</th>\n",
       "      <td>13</td>\n",
       "      <td>blue</td>\n",
       "      <td>playing on swings</td>\n",
       "      <td>M</td>\n",
       "      <td>s071</td>\n",
       "    </tr>\n",
       "    <tr>\n",
       "      <th>72</th>\n",
       "      <td>42</td>\n",
       "      <td>black</td>\n",
       "      <td>first day at school</td>\n",
       "      <td>M</td>\n",
       "      <td>s072</td>\n",
       "    </tr>\n",
       "    <tr>\n",
       "      <th>73</th>\n",
       "      <td>29</td>\n",
       "      <td>green</td>\n",
       "      <td>playing on swings</td>\n",
       "      <td>M</td>\n",
       "      <td>s073</td>\n",
       "    </tr>\n",
       "    <tr>\n",
       "      <th>74</th>\n",
       "      <td>25</td>\n",
       "      <td>blue</td>\n",
       "      <td>going to doctor</td>\n",
       "      <td>F</td>\n",
       "      <td>s074</td>\n",
       "    </tr>\n",
       "    <tr>\n",
       "      <th>75</th>\n",
       "      <td>12</td>\n",
       "      <td>green</td>\n",
       "      <td>going to doctor</td>\n",
       "      <td>F</td>\n",
       "      <td>s075</td>\n",
       "    </tr>\n",
       "    <tr>\n",
       "      <th>76</th>\n",
       "      <td>40</td>\n",
       "      <td>black</td>\n",
       "      <td>vacation at beach</td>\n",
       "      <td>M</td>\n",
       "      <td>s076</td>\n",
       "    </tr>\n",
       "    <tr>\n",
       "      <th>77</th>\n",
       "      <td>37</td>\n",
       "      <td>red</td>\n",
       "      <td>getting new teddy bear</td>\n",
       "      <td>F</td>\n",
       "      <td>s077</td>\n",
       "    </tr>\n",
       "    <tr>\n",
       "      <th>78</th>\n",
       "      <td>6</td>\n",
       "      <td>gray</td>\n",
       "      <td>getting a dog</td>\n",
       "      <td>F</td>\n",
       "      <td>s078</td>\n",
       "    </tr>\n",
       "    <tr>\n",
       "      <th>79</th>\n",
       "      <td>39</td>\n",
       "      <td>green</td>\n",
       "      <td>getting a dog</td>\n",
       "      <td>M</td>\n",
       "      <td>s079</td>\n",
       "    </tr>\n",
       "    <tr>\n",
       "      <th>80</th>\n",
       "      <td>34</td>\n",
       "      <td>purple</td>\n",
       "      <td>first day at school</td>\n",
       "      <td>M</td>\n",
       "      <td>s080</td>\n",
       "    </tr>\n",
       "    <tr>\n",
       "      <th>81</th>\n",
       "      <td>30</td>\n",
       "      <td>blue</td>\n",
       "      <td>going to doctor</td>\n",
       "      <td>F</td>\n",
       "      <td>s081</td>\n",
       "    </tr>\n",
       "    <tr>\n",
       "      <th>82</th>\n",
       "      <td>21</td>\n",
       "      <td>green</td>\n",
       "      <td>playing on swings</td>\n",
       "      <td>M</td>\n",
       "      <td>s082</td>\n",
       "    </tr>\n",
       "    <tr>\n",
       "      <th>83</th>\n",
       "      <td>35</td>\n",
       "      <td>purple</td>\n",
       "      <td>going to doctor</td>\n",
       "      <td>M</td>\n",
       "      <td>s083</td>\n",
       "    </tr>\n",
       "    <tr>\n",
       "      <th>84</th>\n",
       "      <td>39</td>\n",
       "      <td>blue</td>\n",
       "      <td>going to doctor</td>\n",
       "      <td>F</td>\n",
       "      <td>s084</td>\n",
       "    </tr>\n",
       "    <tr>\n",
       "      <th>85</th>\n",
       "      <td>10</td>\n",
       "      <td>purple</td>\n",
       "      <td>playing on swings</td>\n",
       "      <td>F</td>\n",
       "      <td>s085</td>\n",
       "    </tr>\n",
       "    <tr>\n",
       "      <th>86</th>\n",
       "      <td>46</td>\n",
       "      <td>green</td>\n",
       "      <td>going to doctor</td>\n",
       "      <td>F</td>\n",
       "      <td>s086</td>\n",
       "    </tr>\n",
       "    <tr>\n",
       "      <th>87</th>\n",
       "      <td>12</td>\n",
       "      <td>black</td>\n",
       "      <td>first day at school</td>\n",
       "      <td>M</td>\n",
       "      <td>s087</td>\n",
       "    </tr>\n",
       "    <tr>\n",
       "      <th>88</th>\n",
       "      <td>38</td>\n",
       "      <td>black</td>\n",
       "      <td>playing on swings</td>\n",
       "      <td>M</td>\n",
       "      <td>s088</td>\n",
       "    </tr>\n",
       "    <tr>\n",
       "      <th>89</th>\n",
       "      <td>29</td>\n",
       "      <td>orange</td>\n",
       "      <td>getting new teddy bear</td>\n",
       "      <td>F</td>\n",
       "      <td>s089</td>\n",
       "    </tr>\n",
       "    <tr>\n",
       "      <th>90</th>\n",
       "      <td>29</td>\n",
       "      <td>green</td>\n",
       "      <td>playing on swings</td>\n",
       "      <td>M</td>\n",
       "      <td>s090</td>\n",
       "    </tr>\n",
       "    <tr>\n",
       "      <th>91</th>\n",
       "      <td>24</td>\n",
       "      <td>blue</td>\n",
       "      <td>getting a dog</td>\n",
       "      <td>F</td>\n",
       "      <td>s091</td>\n",
       "    </tr>\n",
       "    <tr>\n",
       "      <th>92</th>\n",
       "      <td>2</td>\n",
       "      <td>red</td>\n",
       "      <td>going to doctor</td>\n",
       "      <td>M</td>\n",
       "      <td>s092</td>\n",
       "    </tr>\n",
       "    <tr>\n",
       "      <th>93</th>\n",
       "      <td>37</td>\n",
       "      <td>black</td>\n",
       "      <td>vacation at beach</td>\n",
       "      <td>M</td>\n",
       "      <td>s093</td>\n",
       "    </tr>\n",
       "    <tr>\n",
       "      <th>94</th>\n",
       "      <td>41</td>\n",
       "      <td>blue</td>\n",
       "      <td>getting new teddy bear</td>\n",
       "      <td>F</td>\n",
       "      <td>s094</td>\n",
       "    </tr>\n",
       "    <tr>\n",
       "      <th>95</th>\n",
       "      <td>39</td>\n",
       "      <td>purple</td>\n",
       "      <td>first day at school</td>\n",
       "      <td>M</td>\n",
       "      <td>s095</td>\n",
       "    </tr>\n",
       "    <tr>\n",
       "      <th>96</th>\n",
       "      <td>36</td>\n",
       "      <td>blue</td>\n",
       "      <td>getting new teddy bear</td>\n",
       "      <td>M</td>\n",
       "      <td>s096</td>\n",
       "    </tr>\n",
       "    <tr>\n",
       "      <th>97</th>\n",
       "      <td>13</td>\n",
       "      <td>purple</td>\n",
       "      <td>getting a dog</td>\n",
       "      <td>M</td>\n",
       "      <td>s097</td>\n",
       "    </tr>\n",
       "    <tr>\n",
       "      <th>98</th>\n",
       "      <td>31</td>\n",
       "      <td>green</td>\n",
       "      <td>going to doctor</td>\n",
       "      <td>F</td>\n",
       "      <td>s098</td>\n",
       "    </tr>\n",
       "    <tr>\n",
       "      <th>99</th>\n",
       "      <td>12</td>\n",
       "      <td>purple</td>\n",
       "      <td>first day at school</td>\n",
       "      <td>F</td>\n",
       "      <td>s099</td>\n",
       "    </tr>\n",
       "  </tbody>\n",
       "</table>\n",
       "<p>100 rows × 5 columns</p>\n",
       "</div>"
      ],
      "text/plain": [
       "   Age of first bike Favorite color            First memory Gender   pID\n",
       "0                 39            red       vacation at beach      F  s000\n",
       "1                 10         orange       vacation at beach      F  s001\n",
       "2                  3          black           getting a dog      M  s002\n",
       "3                 42           gray     first day at school      M  s003\n",
       "4                 36         orange       playing on swings      F  s004\n",
       "5                 13            red       playing on swings      M  s005\n",
       "6                 13         purple       playing on swings      F  s006\n",
       "7                 37           blue  getting new teddy bear      F  s007\n",
       "8                  4            red       playing on swings      M  s008\n",
       "9                 22         orange     first day at school      M  s009\n",
       "10                12          green     first day at school      F  s010\n",
       "11                43         purple           getting a dog      F  s011\n",
       "12                18         purple           getting a dog      M  s012\n",
       "13                 4            red  getting new teddy bear      M  s013\n",
       "14                10           blue           getting a dog      M  s014\n",
       "15                27         purple  getting new teddy bear      F  s015\n",
       "16                 6           blue  getting new teddy bear      M  s016\n",
       "17                37         purple         going to doctor      M  s017\n",
       "18                45            red       playing on swings      F  s018\n",
       "19                27         orange       playing on swings      M  s019\n",
       "20                15           gray       playing on swings      M  s020\n",
       "21                 5         orange     first day at school      F  s021\n",
       "22                21         orange       playing on swings      F  s022\n",
       "23                38         orange         going to doctor      F  s023\n",
       "24                23         purple       playing on swings      F  s024\n",
       "25                11          green       vacation at beach      F  s025\n",
       "26                38           gray       playing on swings      F  s026\n",
       "27                16          green         going to doctor      M  s027\n",
       "28                19          green           getting a dog      M  s028\n",
       "29                17            red  getting new teddy bear      F  s029\n",
       "..               ...            ...                     ...    ...   ...\n",
       "70                34           gray     first day at school      M  s070\n",
       "71                13           blue       playing on swings      M  s071\n",
       "72                42          black     first day at school      M  s072\n",
       "73                29          green       playing on swings      M  s073\n",
       "74                25           blue         going to doctor      F  s074\n",
       "75                12          green         going to doctor      F  s075\n",
       "76                40          black       vacation at beach      M  s076\n",
       "77                37            red  getting new teddy bear      F  s077\n",
       "78                 6           gray           getting a dog      F  s078\n",
       "79                39          green           getting a dog      M  s079\n",
       "80                34         purple     first day at school      M  s080\n",
       "81                30           blue         going to doctor      F  s081\n",
       "82                21          green       playing on swings      M  s082\n",
       "83                35         purple         going to doctor      M  s083\n",
       "84                39           blue         going to doctor      F  s084\n",
       "85                10         purple       playing on swings      F  s085\n",
       "86                46          green         going to doctor      F  s086\n",
       "87                12          black     first day at school      M  s087\n",
       "88                38          black       playing on swings      M  s088\n",
       "89                29         orange  getting new teddy bear      F  s089\n",
       "90                29          green       playing on swings      M  s090\n",
       "91                24           blue           getting a dog      F  s091\n",
       "92                 2            red         going to doctor      M  s092\n",
       "93                37          black       vacation at beach      M  s093\n",
       "94                41           blue  getting new teddy bear      F  s094\n",
       "95                39         purple     first day at school      M  s095\n",
       "96                36           blue  getting new teddy bear      M  s096\n",
       "97                13         purple           getting a dog      M  s097\n",
       "98                31          green         going to doctor      F  s098\n",
       "99                12         purple     first day at school      F  s099\n",
       "\n",
       "[100 rows x 5 columns]"
      ]
     },
     "execution_count": 297,
     "metadata": {},
     "output_type": "execute_result"
    }
   ],
   "source": [
    "df"
   ]
  },
  {
   "cell_type": "markdown",
   "metadata": {},
   "source": [
    "* Access two of the columns by column name indexing"
   ]
  },
  {
   "cell_type": "code",
   "execution_count": 298,
   "metadata": {},
   "outputs": [
    {
     "data": {
      "text/html": [
       "<div>\n",
       "<style>\n",
       "    .dataframe thead tr:only-child th {\n",
       "        text-align: right;\n",
       "    }\n",
       "\n",
       "    .dataframe thead th {\n",
       "        text-align: left;\n",
       "    }\n",
       "\n",
       "    .dataframe tbody tr th {\n",
       "        vertical-align: top;\n",
       "    }\n",
       "</style>\n",
       "<table border=\"1\" class=\"dataframe\">\n",
       "  <thead>\n",
       "    <tr style=\"text-align: right;\">\n",
       "      <th></th>\n",
       "      <th>Gender</th>\n",
       "      <th>First memory</th>\n",
       "    </tr>\n",
       "  </thead>\n",
       "  <tbody>\n",
       "    <tr>\n",
       "      <th>0</th>\n",
       "      <td>F</td>\n",
       "      <td>vacation at beach</td>\n",
       "    </tr>\n",
       "    <tr>\n",
       "      <th>1</th>\n",
       "      <td>F</td>\n",
       "      <td>vacation at beach</td>\n",
       "    </tr>\n",
       "    <tr>\n",
       "      <th>2</th>\n",
       "      <td>M</td>\n",
       "      <td>getting a dog</td>\n",
       "    </tr>\n",
       "    <tr>\n",
       "      <th>3</th>\n",
       "      <td>M</td>\n",
       "      <td>first day at school</td>\n",
       "    </tr>\n",
       "    <tr>\n",
       "      <th>4</th>\n",
       "      <td>F</td>\n",
       "      <td>playing on swings</td>\n",
       "    </tr>\n",
       "    <tr>\n",
       "      <th>5</th>\n",
       "      <td>M</td>\n",
       "      <td>playing on swings</td>\n",
       "    </tr>\n",
       "    <tr>\n",
       "      <th>6</th>\n",
       "      <td>F</td>\n",
       "      <td>playing on swings</td>\n",
       "    </tr>\n",
       "    <tr>\n",
       "      <th>7</th>\n",
       "      <td>F</td>\n",
       "      <td>getting new teddy bear</td>\n",
       "    </tr>\n",
       "    <tr>\n",
       "      <th>8</th>\n",
       "      <td>M</td>\n",
       "      <td>playing on swings</td>\n",
       "    </tr>\n",
       "    <tr>\n",
       "      <th>9</th>\n",
       "      <td>M</td>\n",
       "      <td>first day at school</td>\n",
       "    </tr>\n",
       "    <tr>\n",
       "      <th>10</th>\n",
       "      <td>F</td>\n",
       "      <td>first day at school</td>\n",
       "    </tr>\n",
       "    <tr>\n",
       "      <th>11</th>\n",
       "      <td>F</td>\n",
       "      <td>getting a dog</td>\n",
       "    </tr>\n",
       "    <tr>\n",
       "      <th>12</th>\n",
       "      <td>M</td>\n",
       "      <td>getting a dog</td>\n",
       "    </tr>\n",
       "    <tr>\n",
       "      <th>13</th>\n",
       "      <td>M</td>\n",
       "      <td>getting new teddy bear</td>\n",
       "    </tr>\n",
       "    <tr>\n",
       "      <th>14</th>\n",
       "      <td>M</td>\n",
       "      <td>getting a dog</td>\n",
       "    </tr>\n",
       "    <tr>\n",
       "      <th>15</th>\n",
       "      <td>F</td>\n",
       "      <td>getting new teddy bear</td>\n",
       "    </tr>\n",
       "    <tr>\n",
       "      <th>16</th>\n",
       "      <td>M</td>\n",
       "      <td>getting new teddy bear</td>\n",
       "    </tr>\n",
       "    <tr>\n",
       "      <th>17</th>\n",
       "      <td>M</td>\n",
       "      <td>going to doctor</td>\n",
       "    </tr>\n",
       "    <tr>\n",
       "      <th>18</th>\n",
       "      <td>F</td>\n",
       "      <td>playing on swings</td>\n",
       "    </tr>\n",
       "    <tr>\n",
       "      <th>19</th>\n",
       "      <td>M</td>\n",
       "      <td>playing on swings</td>\n",
       "    </tr>\n",
       "    <tr>\n",
       "      <th>20</th>\n",
       "      <td>M</td>\n",
       "      <td>playing on swings</td>\n",
       "    </tr>\n",
       "    <tr>\n",
       "      <th>21</th>\n",
       "      <td>F</td>\n",
       "      <td>first day at school</td>\n",
       "    </tr>\n",
       "    <tr>\n",
       "      <th>22</th>\n",
       "      <td>F</td>\n",
       "      <td>playing on swings</td>\n",
       "    </tr>\n",
       "    <tr>\n",
       "      <th>23</th>\n",
       "      <td>F</td>\n",
       "      <td>going to doctor</td>\n",
       "    </tr>\n",
       "    <tr>\n",
       "      <th>24</th>\n",
       "      <td>F</td>\n",
       "      <td>playing on swings</td>\n",
       "    </tr>\n",
       "    <tr>\n",
       "      <th>25</th>\n",
       "      <td>F</td>\n",
       "      <td>vacation at beach</td>\n",
       "    </tr>\n",
       "    <tr>\n",
       "      <th>26</th>\n",
       "      <td>F</td>\n",
       "      <td>playing on swings</td>\n",
       "    </tr>\n",
       "    <tr>\n",
       "      <th>27</th>\n",
       "      <td>M</td>\n",
       "      <td>going to doctor</td>\n",
       "    </tr>\n",
       "    <tr>\n",
       "      <th>28</th>\n",
       "      <td>M</td>\n",
       "      <td>getting a dog</td>\n",
       "    </tr>\n",
       "    <tr>\n",
       "      <th>29</th>\n",
       "      <td>F</td>\n",
       "      <td>getting new teddy bear</td>\n",
       "    </tr>\n",
       "    <tr>\n",
       "      <th>...</th>\n",
       "      <td>...</td>\n",
       "      <td>...</td>\n",
       "    </tr>\n",
       "    <tr>\n",
       "      <th>70</th>\n",
       "      <td>M</td>\n",
       "      <td>first day at school</td>\n",
       "    </tr>\n",
       "    <tr>\n",
       "      <th>71</th>\n",
       "      <td>M</td>\n",
       "      <td>playing on swings</td>\n",
       "    </tr>\n",
       "    <tr>\n",
       "      <th>72</th>\n",
       "      <td>M</td>\n",
       "      <td>first day at school</td>\n",
       "    </tr>\n",
       "    <tr>\n",
       "      <th>73</th>\n",
       "      <td>M</td>\n",
       "      <td>playing on swings</td>\n",
       "    </tr>\n",
       "    <tr>\n",
       "      <th>74</th>\n",
       "      <td>F</td>\n",
       "      <td>going to doctor</td>\n",
       "    </tr>\n",
       "    <tr>\n",
       "      <th>75</th>\n",
       "      <td>F</td>\n",
       "      <td>going to doctor</td>\n",
       "    </tr>\n",
       "    <tr>\n",
       "      <th>76</th>\n",
       "      <td>M</td>\n",
       "      <td>vacation at beach</td>\n",
       "    </tr>\n",
       "    <tr>\n",
       "      <th>77</th>\n",
       "      <td>F</td>\n",
       "      <td>getting new teddy bear</td>\n",
       "    </tr>\n",
       "    <tr>\n",
       "      <th>78</th>\n",
       "      <td>F</td>\n",
       "      <td>getting a dog</td>\n",
       "    </tr>\n",
       "    <tr>\n",
       "      <th>79</th>\n",
       "      <td>M</td>\n",
       "      <td>getting a dog</td>\n",
       "    </tr>\n",
       "    <tr>\n",
       "      <th>80</th>\n",
       "      <td>M</td>\n",
       "      <td>first day at school</td>\n",
       "    </tr>\n",
       "    <tr>\n",
       "      <th>81</th>\n",
       "      <td>F</td>\n",
       "      <td>going to doctor</td>\n",
       "    </tr>\n",
       "    <tr>\n",
       "      <th>82</th>\n",
       "      <td>M</td>\n",
       "      <td>playing on swings</td>\n",
       "    </tr>\n",
       "    <tr>\n",
       "      <th>83</th>\n",
       "      <td>M</td>\n",
       "      <td>going to doctor</td>\n",
       "    </tr>\n",
       "    <tr>\n",
       "      <th>84</th>\n",
       "      <td>F</td>\n",
       "      <td>going to doctor</td>\n",
       "    </tr>\n",
       "    <tr>\n",
       "      <th>85</th>\n",
       "      <td>F</td>\n",
       "      <td>playing on swings</td>\n",
       "    </tr>\n",
       "    <tr>\n",
       "      <th>86</th>\n",
       "      <td>F</td>\n",
       "      <td>going to doctor</td>\n",
       "    </tr>\n",
       "    <tr>\n",
       "      <th>87</th>\n",
       "      <td>M</td>\n",
       "      <td>first day at school</td>\n",
       "    </tr>\n",
       "    <tr>\n",
       "      <th>88</th>\n",
       "      <td>M</td>\n",
       "      <td>playing on swings</td>\n",
       "    </tr>\n",
       "    <tr>\n",
       "      <th>89</th>\n",
       "      <td>F</td>\n",
       "      <td>getting new teddy bear</td>\n",
       "    </tr>\n",
       "    <tr>\n",
       "      <th>90</th>\n",
       "      <td>M</td>\n",
       "      <td>playing on swings</td>\n",
       "    </tr>\n",
       "    <tr>\n",
       "      <th>91</th>\n",
       "      <td>F</td>\n",
       "      <td>getting a dog</td>\n",
       "    </tr>\n",
       "    <tr>\n",
       "      <th>92</th>\n",
       "      <td>M</td>\n",
       "      <td>going to doctor</td>\n",
       "    </tr>\n",
       "    <tr>\n",
       "      <th>93</th>\n",
       "      <td>M</td>\n",
       "      <td>vacation at beach</td>\n",
       "    </tr>\n",
       "    <tr>\n",
       "      <th>94</th>\n",
       "      <td>F</td>\n",
       "      <td>getting new teddy bear</td>\n",
       "    </tr>\n",
       "    <tr>\n",
       "      <th>95</th>\n",
       "      <td>M</td>\n",
       "      <td>first day at school</td>\n",
       "    </tr>\n",
       "    <tr>\n",
       "      <th>96</th>\n",
       "      <td>M</td>\n",
       "      <td>getting new teddy bear</td>\n",
       "    </tr>\n",
       "    <tr>\n",
       "      <th>97</th>\n",
       "      <td>M</td>\n",
       "      <td>getting a dog</td>\n",
       "    </tr>\n",
       "    <tr>\n",
       "      <th>98</th>\n",
       "      <td>F</td>\n",
       "      <td>going to doctor</td>\n",
       "    </tr>\n",
       "    <tr>\n",
       "      <th>99</th>\n",
       "      <td>F</td>\n",
       "      <td>first day at school</td>\n",
       "    </tr>\n",
       "  </tbody>\n",
       "</table>\n",
       "<p>100 rows × 2 columns</p>\n",
       "</div>"
      ],
      "text/plain": [
       "   Gender            First memory\n",
       "0       F       vacation at beach\n",
       "1       F       vacation at beach\n",
       "2       M           getting a dog\n",
       "3       M     first day at school\n",
       "4       F       playing on swings\n",
       "5       M       playing on swings\n",
       "6       F       playing on swings\n",
       "7       F  getting new teddy bear\n",
       "8       M       playing on swings\n",
       "9       M     first day at school\n",
       "10      F     first day at school\n",
       "11      F           getting a dog\n",
       "12      M           getting a dog\n",
       "13      M  getting new teddy bear\n",
       "14      M           getting a dog\n",
       "15      F  getting new teddy bear\n",
       "16      M  getting new teddy bear\n",
       "17      M         going to doctor\n",
       "18      F       playing on swings\n",
       "19      M       playing on swings\n",
       "20      M       playing on swings\n",
       "21      F     first day at school\n",
       "22      F       playing on swings\n",
       "23      F         going to doctor\n",
       "24      F       playing on swings\n",
       "25      F       vacation at beach\n",
       "26      F       playing on swings\n",
       "27      M         going to doctor\n",
       "28      M           getting a dog\n",
       "29      F  getting new teddy bear\n",
       "..    ...                     ...\n",
       "70      M     first day at school\n",
       "71      M       playing on swings\n",
       "72      M     first day at school\n",
       "73      M       playing on swings\n",
       "74      F         going to doctor\n",
       "75      F         going to doctor\n",
       "76      M       vacation at beach\n",
       "77      F  getting new teddy bear\n",
       "78      F           getting a dog\n",
       "79      M           getting a dog\n",
       "80      M     first day at school\n",
       "81      F         going to doctor\n",
       "82      M       playing on swings\n",
       "83      M         going to doctor\n",
       "84      F         going to doctor\n",
       "85      F       playing on swings\n",
       "86      F         going to doctor\n",
       "87      M     first day at school\n",
       "88      M       playing on swings\n",
       "89      F  getting new teddy bear\n",
       "90      M       playing on swings\n",
       "91      F           getting a dog\n",
       "92      M         going to doctor\n",
       "93      M       vacation at beach\n",
       "94      F  getting new teddy bear\n",
       "95      M     first day at school\n",
       "96      M  getting new teddy bear\n",
       "97      M           getting a dog\n",
       "98      F         going to doctor\n",
       "99      F     first day at school\n",
       "\n",
       "[100 rows x 2 columns]"
      ]
     },
     "execution_count": 298,
     "metadata": {},
     "output_type": "execute_result"
    }
   ],
   "source": [
    "df[['Gender', 'First memory']]"
   ]
  },
  {
   "cell_type": "markdown",
   "metadata": {},
   "source": [
    "* Get the values for the `Age of first bike` column"
   ]
  },
  {
   "cell_type": "code",
   "execution_count": 299,
   "metadata": {},
   "outputs": [
    {
     "data": {
      "text/plain": [
       "array(['39', '10', '3', '42', '36', '13', '13', '37', '4', '22', '12',\n",
       "       '43', '18', '4', '10', '27', '6', '37', '45', '27', '15', '5', '21',\n",
       "       '38', '23', '11', '38', '16', '19', '17', '10', '14', '36', '37',\n",
       "       '9', '23', '15', '20', '33', '19', '33', '38', '35', '36', '27',\n",
       "       '4', '14', '3', '27', '32', '26', '37', '41', '41', '25', '42',\n",
       "       '20', '13', '39', '41', '12', '12', '15', '32', '27', '19', '27',\n",
       "       '4', '24', '3', '34', '13', '42', '29', '25', '12', '40', '37', '6',\n",
       "       '39', '34', '30', '21', '35', '39', '10', '46', '12', '38', '29',\n",
       "       '29', '24', '2', '37', '41', '39', '36', '13', '31', '12'], dtype=object)"
      ]
     },
     "execution_count": 299,
     "metadata": {},
     "output_type": "execute_result"
    }
   ],
   "source": [
    "df['Age of first bike'].values"
   ]
  },
  {
   "cell_type": "markdown",
   "metadata": {},
   "source": [
    "* Tally the number of responses by `Gender`"
   ]
  },
  {
   "cell_type": "code",
   "execution_count": 300,
   "metadata": {
    "scrolled": true
   },
   "outputs": [
    {
     "data": {
      "text/plain": [
       "M    52\n",
       "F    48\n",
       "Name: Gender, dtype: int64"
      ]
     },
     "execution_count": 300,
     "metadata": {},
     "output_type": "execute_result"
    }
   ],
   "source": [
    "df.Gender.value_counts()"
   ]
  },
  {
   "cell_type": "markdown",
   "metadata": {},
   "source": [
    "* List unique values for `First memory` column"
   ]
  },
  {
   "cell_type": "code",
   "execution_count": 301,
   "metadata": {},
   "outputs": [
    {
     "data": {
      "text/plain": [
       "array(['vacation at beach', 'getting a dog', 'first day at school',\n",
       "       'playing on swings', 'getting new teddy bear', 'going to doctor'], dtype=object)"
      ]
     },
     "execution_count": 301,
     "metadata": {},
     "output_type": "execute_result"
    }
   ],
   "source": [
    "df['First memory'].unique()"
   ]
  },
  {
   "cell_type": "markdown",
   "metadata": {},
   "source": [
    "* Create a tally of the number of instances of each of the values for `First memory`"
   ]
  },
  {
   "cell_type": "code",
   "execution_count": 302,
   "metadata": {},
   "outputs": [
    {
     "data": {
      "text/plain": [
       "playing on swings         20\n",
       "getting a dog             20\n",
       "first day at school       19\n",
       "getting new teddy bear    16\n",
       "going to doctor           15\n",
       "vacation at beach         10\n",
       "Name: First memory, dtype: int64"
      ]
     },
     "execution_count": 302,
     "metadata": {},
     "output_type": "execute_result"
    }
   ],
   "source": [
    "df['First memory'].value_counts()"
   ]
  },
  {
   "cell_type": "markdown",
   "metadata": {},
   "source": [
    "* Plot bar chart from this table"
   ]
  },
  {
   "cell_type": "code",
   "execution_count": 303,
   "metadata": {},
   "outputs": [
    {
     "data": {
      "text/plain": [
       "<matplotlib.axes._subplots.AxesSubplot at 0x7facccee6438>"
      ]
     },
     "execution_count": 303,
     "metadata": {},
     "output_type": "execute_result"
    },
    {
     "data": {
      "image/png": "[encoded data removed]",
      "text/plain": [
       "<Figure size 432x288 with 1 Axes>"
      ]
     },
     "metadata": {},
     "output_type": "display_data"
    }
   ],
   "source": [
    "df['First memory'].value_counts().plot('bar')"
   ]
  },
  {
   "cell_type": "markdown",
   "metadata": {},
   "source": [
    "* Create a tally of values for `First memory` grouped by `Gender`"
   ]
  },
  {
   "cell_type": "code",
   "execution_count": 304,
   "metadata": {},
   "outputs": [
    {
     "data": {
      "text/plain": [
       "First memory            Gender\n",
       "first day at school     F          6\n",
       "                        M         13\n",
       "getting a dog           F         11\n",
       "                        M          9\n",
       "getting new teddy bear  F         11\n",
       "                        M          5\n",
       "going to doctor         F          9\n",
       "                        M          6\n",
       "playing on swings       F          7\n",
       "                        M         13\n",
       "vacation at beach       F          4\n",
       "                        M          6\n",
       "Name: First memory, dtype: int64"
      ]
     },
     "execution_count": 304,
     "metadata": {},
     "output_type": "execute_result"
    }
   ],
   "source": [
    "df.groupby(['First memory','Gender'])['First memory'].count()"
   ]
  },
  {
   "cell_type": "markdown",
   "metadata": {},
   "source": [
    "* Plot this grouping"
   ]
  },
  {
   "cell_type": "code",
   "execution_count": 305,
   "metadata": {},
   "outputs": [
    {
     "data": {
      "text/plain": [
       "<matplotlib.axes._subplots.AxesSubplot at 0x7faccce9e860>"
      ]
     },
     "execution_count": 305,
     "metadata": {},
     "output_type": "execute_result"
    },
    {
     "data": {
      "image/png": "[encoded data removed]",
      "text/plain": [
       "<Figure size 432x288 with 1 Axes>"
      ]
     },
     "metadata": {},
     "output_type": "display_data"
    }
   ],
   "source": [
    "df.groupby(['First memory','Gender'])['First memory'].count().unstack().plot(kind='bar')"
   ]
  }
 ],
 "metadata": {
  "kernelspec": {
   "display_name": "Python 3",
   "language": "python",
   "name": "python3"
  },
  "language_info": {
   "codemirror_mode": {
    "name": "ipython",
    "version": 3
   },
   "file_extension": ".py",
   "mimetype": "text/x-python",
   "name": "python",
   "nbconvert_exporter": "python",
   "pygments_lexer": "ipython3",
   "version": "3.6.6"
  }
 },
 "nbformat": 4,
 "nbformat_minor": 2
}
