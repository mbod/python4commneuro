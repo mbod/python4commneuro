{
 "cells": [
  {
   "cell_type": "markdown",
   "metadata": {},
   "source": [
    "# Working with data in Python\n",
    "\n",
    "## Overview\n",
    "\n",
    "* The purpose of this notebook is to examine some of the common formats (or data structures) you can come across when working with data in Python. It focuses on non-tabular data which we will cover in another notebook and using the `pandas` module.\n",
    "\n",
    "\n",
    "* To two core structures built in to Python that it is essential to be comfortable working with are:\n",
    "    1. __LISTS__\n",
    "    2. __DICTIONARIES__\n",
    "\n",
    "\n",
    "* And two basic flow structures in Python code are:\n",
    "    1. __LOOPS__\n",
    "    2. __CONDITIONS__\n",
    "    \n",
    "    \n",
    "    \n",
    "* __JSON__ (JavaScript Object Notation) is a text serialization for complex data structures (especially those that cannot be represented as a table where CSV may be more common). \n",
    "    * In Python working with JSON data is relatively simple as it becomes a list-of-dictionaries nested in various ways.\n",
    "    * Most APIs (e.g. Twitter, NYTimes, Genius, Qualtrics, Amazon MTurk, etc.) \n",
    "\n",
    "\n",
    "* This notebook works up from simple lists, dictionaries, list-of-dictionaries to a complex JSON example from the Twitter API.\n",
    "\n",
    "\n",
    "-----\n",
    "\n",
    "#### HISTORY\n",
    "\n",
    "* 2/27/19 mbod - initial version for Python workshop"
   ]
  },
  {
   "cell_type": "code",
   "execution_count": 6,
   "metadata": {
    "collapsed": true
   },
   "outputs": [],
   "source": [
    "import json\n",
    "import csv"
   ]
  },
  {
   "cell_type": "code",
   "execution_count": null,
   "metadata": {
    "collapsed": true
   },
   "outputs": [],
   "source": []
  },
  {
   "cell_type": "markdown",
   "metadata": {},
   "source": [
    "## Lists"
   ]
  },
  {
   "cell_type": "code",
   "execution_count": null,
   "metadata": {
    "collapsed": true
   },
   "outputs": [],
   "source": []
  },
  {
   "cell_type": "markdown",
   "metadata": {},
   "source": [
    "## Dictionaries"
   ]
  },
  {
   "cell_type": "code",
   "execution_count": null,
   "metadata": {
    "collapsed": true
   },
   "outputs": [],
   "source": []
  },
  {
   "cell_type": "code",
   "execution_count": 7,
   "metadata": {
    "collapsed": true
   },
   "outputs": [],
   "source": [
    "csv.DictReader?"
   ]
  },
  {
   "cell_type": "code",
   "execution_count": null,
   "metadata": {
    "collapsed": true
   },
   "outputs": [],
   "source": []
  },
  {
   "cell_type": "code",
   "execution_count": null,
   "metadata": {
    "collapsed": true
   },
   "outputs": [],
   "source": []
  },
  {
   "cell_type": "code",
   "execution_count": 2,
   "metadata": {
    "collapsed": true
   },
   "outputs": [],
   "source": [
    "with open('data/example_log_data.json') as fh:\n",
    "    log_data = json.load(fh)"
   ]
  },
  {
   "cell_type": "code",
   "execution_count": 4,
   "metadata": {
    "collapsed": false
   },
   "outputs": [
    {
     "data": {
      "text/plain": [
       "dict_keys(['log130.log', 'log131.log', 'log132.log', 'log133.log', 'log134.log', 'log135.log', 'log136.log', 'log137.log', 'log138.log', 'log139.log', 'log140.log', 'log141.log', 'log142.log', 'log143.log', 'log144.log', 'log145.log', 'log146.log', 'log147.log', 'log148.log', 'log149.log', 'log150.log', 'log151.log', 'log152.log', 'log153.log', 'log154.log', 'log155.log', 'log156.log', 'log157.log', 'log158.log', 'log159.log', 'log160.log', 'log161.log', 'log162.log', 'log163.log', 'log164.log', 'log165.log', 'log166.log', 'log167.log', 'log168.log', 'log169.log', 'log170.log', 'log171.log', 'log172.log'])"
      ]
     },
     "execution_count": 4,
     "metadata": {},
     "output_type": "execute_result"
    }
   ],
   "source": [
    "log_data.keys()"
   ]
  },
  {
   "cell_type": "code",
   "execution_count": 5,
   "metadata": {
    "collapsed": false
   },
   "outputs": [
    {
     "data": {
      "text/plain": [
       "[{'share_rating': '3', 'trial_num': 1, 'video': 'a2r18h.mp4'},\n",
       " {'share_rating': '2', 'trial_num': 2, 'video': 'a1r11n.mp4'},\n",
       " {'share_rating': '2', 'trial_num': 3, 'video': 'a2d18h.mp4'},\n",
       " {'share_rating': '1', 'trial_num': 4, 'video': 'a2d13h.mp4'},\n",
       " {'share_rating': '1', 'trial_num': 5, 'video': 'a2r15h.mp4'},\n",
       " {'share_rating': '3', 'trial_num': 6, 'video': 'a1d10n.mp4'},\n",
       " {'share_rating': '1', 'trial_num': 7, 'video': 'a2d16h.mp4'},\n",
       " {'share_rating': '2', 'trial_num': 8, 'video': 'a1r12n.mp4'},\n",
       " {'share_rating': '1', 'trial_num': 9, 'video': 'a2d21h.mp4'},\n",
       " {'share_rating': '1', 'trial_num': 10, 'video': 'a2r23h.mp4'},\n",
       " {'share_rating': '2', 'trial_num': 11, 'video': 'a1d12n.mp4'},\n",
       " {'share_rating': '1', 'trial_num': 12, 'video': 'a1r09n.mp4'},\n",
       " {'share_rating': '1', 'trial_num': 13, 'video': 'a2r22h.mp4'},\n",
       " {'share_rating': '1', 'trial_num': 14, 'video': 'a1d11n.mp4'},\n",
       " {'share_rating': '3', 'trial_num': 15, 'video': 'a1d15n.mp4'},\n",
       " {'share_rating': '2', 'trial_num': 16, 'video': 'a1r10n.mp4'}]"
      ]
     },
     "execution_count": 5,
     "metadata": {},
     "output_type": "execute_result"
    }
   ],
   "source": [
    "log_data['log166.log']"
   ]
  },
  {
   "cell_type": "code",
   "execution_count": null,
   "metadata": {
    "collapsed": true
   },
   "outputs": [],
   "source": []
  }
 ],
 "metadata": {
  "kernelspec": {
   "display_name": "Python 3",
   "language": "python",
   "name": "python3"
  },
  "language_info": {
   "codemirror_mode": {
    "name": "ipython",
    "version": 3
   },
   "file_extension": ".py",
   "mimetype": "text/x-python",
   "name": "python",
   "nbconvert_exporter": "python",
   "pygments_lexer": "ipython3",
   "version": "3.6.0"
  }
 },
 "nbformat": 4,
 "nbformat_minor": 2
}
